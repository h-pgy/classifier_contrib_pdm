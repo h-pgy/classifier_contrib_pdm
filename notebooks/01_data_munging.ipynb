{
 "cells": [
  {
   "cell_type": "code",
   "execution_count": 4,
   "metadata": {},
   "outputs": [],
   "source": [
    "from config import set_path, DATA_DIR\n",
    "\n",
    "set_path()\n",
    "\n",
    "import pandas as pd\n",
    "from core.load_data.types import JSON_TYPE\n",
    "from core.load_data import load_contributions\n",
    "\n",
    "import os"
   ]
  },
  {
   "cell_type": "code",
   "execution_count": 5,
   "metadata": {},
   "outputs": [
    {
     "name": "stdout",
     "output_type": "stream",
     "text": [
      "Finished - 204\n",
      "Too many requests - waiting 3 seconds\n",
      "Finished - 204\n",
      "Finished - 204\n",
      "Too many requests - waiting 3 seconds\n",
      "Finished - 204\n",
      "Finished - 204\n",
      "Too many requests - waiting 3 seconds\n",
      "Finished - 204\n",
      "Too many requests - waiting 3 seconds\n",
      "Finished - 204\n",
      "Finished - 204\n",
      "Too many requests - waiting 3 seconds\n",
      "Finished - 204\n",
      "Finished - 204\n",
      "Too many requests - waiting 3 seconds\n",
      "Finished - 204\n",
      "Too many requests - waiting 3 seconds\n",
      "Finished - 204\n",
      "Finished - 204\n",
      "Incomplete read - waiting 3 seconds\n",
      "Finished - 204\n",
      "Finished - 204\n",
      "Too many requests - waiting 3 seconds\n",
      "Finished - 204\n",
      "Too many requests - waiting 3 seconds\n",
      "Finished - 204\n"
     ]
    }
   ],
   "source": [
    "data = load_contributions()"
   ]
  },
  {
   "cell_type": "code",
   "execution_count": 6,
   "metadata": {},
   "outputs": [
    {
     "data": {
      "text/plain": [
       "dict_keys(['Assistência Social', 'Cultura', 'Desenvolvimento Econômico e Trabalho', 'Direitos Humanos e Cidadania', 'Educação', 'Esporte e Lazer', 'Habitação', 'Infraestrutura Urbana e Obras', 'Inovação e Tecnologia', 'Meio Ambiente', 'Outros temas', 'Pessoa com Deficiência', 'Saúde', 'Segurança Urbana', 'Transportes e Mobilidade', 'Urbanismo e Licenciamento', 'Zeladoria Urbana e melhorias de bairro'])"
      ]
     },
     "execution_count": 6,
     "metadata": {},
     "output_type": "execute_result"
    }
   ],
   "source": [
    "data.keys()"
   ]
  },
  {
   "cell_type": "code",
   "execution_count": 7,
   "metadata": {},
   "outputs": [],
   "source": [
    "def parse_data(data:dict)->pd.DataFrame:\n",
    "\n",
    "    all_parsed_data: list[dict[str, str]] = []\n",
    "    for contrib_list in data.values():\n",
    "        for contrib in contrib_list:\n",
    "            for sugestao in contrib['sugestoes']:\n",
    "                trecho: str = sugestao['conteudo']\n",
    "                categoria: str = sugestao['tema']['categoria']['nome']\n",
    "                parsed_data: dict[str, str] = {'excerto' : trecho,\n",
    "                            'categoria' : categoria}\n",
    "                \n",
    "                all_parsed_data.append(parsed_data)\n",
    "\n",
    "    \n",
    "    df = pd.DataFrame(all_parsed_data)\n",
    "\n",
    "    return df\n"
   ]
  },
  {
   "cell_type": "code",
   "execution_count": 8,
   "metadata": {},
   "outputs": [],
   "source": [
    "df = parse_data(data)"
   ]
  },
  {
   "cell_type": "code",
   "execution_count": 9,
   "metadata": {},
   "outputs": [
    {
     "data": {
      "text/plain": [
       "82739"
      ]
     },
     "execution_count": 9,
     "metadata": {},
     "output_type": "execute_result"
    }
   ],
   "source": [
    "len(df)"
   ]
  },
  {
   "cell_type": "code",
   "execution_count": 10,
   "metadata": {},
   "outputs": [
    {
     "data": {
      "text/plain": [
       "np.float64(0.9456604503317662)"
      ]
     },
     "execution_count": 10,
     "metadata": {},
     "output_type": "execute_result"
    }
   ],
   "source": [
    "df.duplicated().mean()"
   ]
  },
  {
   "cell_type": "code",
   "execution_count": 11,
   "metadata": {},
   "outputs": [],
   "source": [
    "\n",
    "df: pd.DataFrame= df.drop_duplicates()"
   ]
  },
  {
   "cell_type": "code",
   "execution_count": 12,
   "metadata": {},
   "outputs": [
    {
     "data": {
      "text/plain": [
       "np.float64(0.09653024911032028)"
      ]
     },
     "execution_count": 12,
     "metadata": {},
     "output_type": "execute_result"
    }
   ],
   "source": [
    "df['excerto'].duplicated().mean()"
   ]
  },
  {
   "cell_type": "code",
   "execution_count": 13,
   "metadata": {},
   "outputs": [
    {
     "data": {
      "text/plain": [
       "np.int64(434)"
      ]
     },
     "execution_count": 13,
     "metadata": {},
     "output_type": "execute_result"
    }
   ],
   "source": [
    "df['excerto'].duplicated().sum()"
   ]
  },
  {
   "cell_type": "code",
   "execution_count": 14,
   "metadata": {},
   "outputs": [
    {
     "data": {
      "text/plain": [
       "4496"
      ]
     },
     "execution_count": 14,
     "metadata": {},
     "output_type": "execute_result"
    }
   ],
   "source": [
    "len(df)"
   ]
  },
  {
   "cell_type": "code",
   "execution_count": 15,
   "metadata": {},
   "outputs": [],
   "source": [
    "df = df[~df['excerto'].duplicated(keep='first')].reset_index(drop=True)"
   ]
  },
  {
   "cell_type": "code",
   "execution_count": 16,
   "metadata": {},
   "outputs": [
    {
     "data": {
      "text/plain": [
       "4062"
      ]
     },
     "execution_count": 16,
     "metadata": {},
     "output_type": "execute_result"
    }
   ],
   "source": [
    "len(df)"
   ]
  },
  {
   "cell_type": "code",
   "execution_count": 17,
   "metadata": {},
   "outputs": [
    {
     "data": {
      "text/plain": [
       "np.False_"
      ]
     },
     "execution_count": 17,
     "metadata": {},
     "output_type": "execute_result"
    }
   ],
   "source": [
    "df['excerto'].duplicated().any()"
   ]
  },
  {
   "cell_type": "code",
   "execution_count": 18,
   "metadata": {},
   "outputs": [
    {
     "data": {
      "text/html": [
       "<div>\n",
       "<style scoped>\n",
       "    .dataframe tbody tr th:only-of-type {\n",
       "        vertical-align: middle;\n",
       "    }\n",
       "\n",
       "    .dataframe tbody tr th {\n",
       "        vertical-align: top;\n",
       "    }\n",
       "\n",
       "    .dataframe thead th {\n",
       "        text-align: right;\n",
       "    }\n",
       "</style>\n",
       "<table border=\"1\" class=\"dataframe\">\n",
       "  <thead>\n",
       "    <tr style=\"text-align: right;\">\n",
       "      <th></th>\n",
       "      <th>excerto</th>\n",
       "    </tr>\n",
       "    <tr>\n",
       "      <th>categoria</th>\n",
       "      <th></th>\n",
       "    </tr>\n",
       "  </thead>\n",
       "  <tbody>\n",
       "    <tr>\n",
       "      <th>Assistência Social</th>\n",
       "      <td>289</td>\n",
       "    </tr>\n",
       "    <tr>\n",
       "      <th>Cultura</th>\n",
       "      <td>157</td>\n",
       "    </tr>\n",
       "    <tr>\n",
       "      <th>Desenvolvimento Econômico e Trabalho</th>\n",
       "      <td>385</td>\n",
       "    </tr>\n",
       "    <tr>\n",
       "      <th>Direitos Humanos e Cidadania</th>\n",
       "      <td>129</td>\n",
       "    </tr>\n",
       "    <tr>\n",
       "      <th>Educação</th>\n",
       "      <td>211</td>\n",
       "    </tr>\n",
       "    <tr>\n",
       "      <th>Esporte e Lazer</th>\n",
       "      <td>63</td>\n",
       "    </tr>\n",
       "    <tr>\n",
       "      <th>Habitação</th>\n",
       "      <td>239</td>\n",
       "    </tr>\n",
       "    <tr>\n",
       "      <th>Infraestrutura Urbana e Obras</th>\n",
       "      <td>124</td>\n",
       "    </tr>\n",
       "    <tr>\n",
       "      <th>Inovação e Tecnologia</th>\n",
       "      <td>55</td>\n",
       "    </tr>\n",
       "    <tr>\n",
       "      <th>Meio Ambiente</th>\n",
       "      <td>278</td>\n",
       "    </tr>\n",
       "    <tr>\n",
       "      <th>Outros temas</th>\n",
       "      <td>358</td>\n",
       "    </tr>\n",
       "    <tr>\n",
       "      <th>Pessoa com Deficiência</th>\n",
       "      <td>32</td>\n",
       "    </tr>\n",
       "    <tr>\n",
       "      <th>Saúde</th>\n",
       "      <td>546</td>\n",
       "    </tr>\n",
       "    <tr>\n",
       "      <th>Segurança Urbana</th>\n",
       "      <td>141</td>\n",
       "    </tr>\n",
       "    <tr>\n",
       "      <th>Transportes e Mobilidade</th>\n",
       "      <td>472</td>\n",
       "    </tr>\n",
       "    <tr>\n",
       "      <th>Urbanismo e Licenciamento</th>\n",
       "      <td>121</td>\n",
       "    </tr>\n",
       "    <tr>\n",
       "      <th>Zeladoria Urbana e melhorias de bairro</th>\n",
       "      <td>462</td>\n",
       "    </tr>\n",
       "  </tbody>\n",
       "</table>\n",
       "</div>"
      ],
      "text/plain": [
       "                                        excerto\n",
       "categoria                                      \n",
       "Assistência Social                          289\n",
       "Cultura                                     157\n",
       "Desenvolvimento Econômico e Trabalho        385\n",
       "Direitos Humanos e Cidadania                129\n",
       "Educação                                    211\n",
       "Esporte e Lazer                              63\n",
       "Habitação                                   239\n",
       "Infraestrutura Urbana e Obras               124\n",
       "Inovação e Tecnologia                        55\n",
       "Meio Ambiente                               278\n",
       "Outros temas                                358\n",
       "Pessoa com Deficiência                       32\n",
       "Saúde                                       546\n",
       "Segurança Urbana                            141\n",
       "Transportes e Mobilidade                    472\n",
       "Urbanismo e Licenciamento                   121\n",
       "Zeladoria Urbana e melhorias de bairro      462"
      ]
     },
     "execution_count": 18,
     "metadata": {},
     "output_type": "execute_result"
    }
   ],
   "source": [
    "df.groupby('categoria').count()"
   ]
  },
  {
   "cell_type": "code",
   "execution_count": 19,
   "metadata": {},
   "outputs": [
    {
     "data": {
      "text/plain": [
       "'../data/dados_originais_sugestoes.csv'"
      ]
     },
     "execution_count": 19,
     "metadata": {},
     "output_type": "execute_result"
    }
   ],
   "source": [
    "from utils import save_df\n",
    "\n",
    "save_df(df, 'dados_originais_sugestoes')"
   ]
  }
 ],
 "metadata": {
  "kernelspec": {
   "display_name": "venv",
   "language": "python",
   "name": "python3"
  },
  "language_info": {
   "codemirror_mode": {
    "name": "ipython",
    "version": 3
   },
   "file_extension": ".py",
   "mimetype": "text/x-python",
   "name": "python",
   "nbconvert_exporter": "python",
   "pygments_lexer": "ipython3",
   "version": "3.13.2"
  }
 },
 "nbformat": 4,
 "nbformat_minor": 2
}
