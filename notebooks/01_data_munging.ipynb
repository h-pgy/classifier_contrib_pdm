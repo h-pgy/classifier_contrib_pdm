{
 "cells": [
  {
   "cell_type": "code",
   "execution_count": 1,
   "metadata": {},
   "outputs": [],
   "source": [
    "from config import set_path, DATA_DIR\n",
    "\n",
    "set_path()\n",
    "\n",
    "import pandas as pd\n",
    "from core.load_data.types import JSON_TYPE\n",
    "from core.load_data import load_contributions\n",
    "\n",
    "import os\n"
   ]
  },
  {
   "cell_type": "code",
   "execution_count": 2,
   "metadata": {},
   "outputs": [
    {
     "name": "stdout",
     "output_type": "stream",
     "text": [
      "Incomplete read - waiting 3 seconds\n",
      "Finished - 204\n",
      "Finished - 204\n",
      "Too many requests - waiting 3 seconds\n",
      "Finished - 204\n",
      "Too many requests - waiting 3 seconds\n",
      "Finished - 204\n",
      "Finished - 204\n",
      "Too many requests - waiting 3 seconds\n",
      "Finished - 204\n",
      "Finished - 204\n",
      "Too many requests - waiting 3 seconds\n",
      "Finished - 204\n",
      "Too many requests - waiting 3 seconds\n",
      "Incomplete read - waiting 3 seconds\n",
      "Incomplete read - waiting 3 seconds\n",
      "Finished - 204\n",
      "Finished - 204\n",
      "Too many requests - waiting 3 seconds\n",
      "Finished - 204\n",
      "Finished - 204\n",
      "Too many requests - waiting 3 seconds\n",
      "Finished - 204\n",
      "Too many requests - waiting 3 seconds\n",
      "Incomplete read - waiting 3 seconds\n",
      "Finished - 204\n",
      "Finished - 204\n",
      "Too many requests - waiting 3 seconds\n",
      "Finished - 204\n",
      "Finished - 204\n"
     ]
    }
   ],
   "source": [
    "data = load_contributions()"
   ]
  },
  {
   "cell_type": "code",
   "execution_count": 3,
   "metadata": {},
   "outputs": [
    {
     "data": {
      "text/plain": [
       "dict_keys(['Assistência Social', 'Cultura', 'Desenvolvimento Econômico e Trabalho', 'Direitos Humanos e Cidadania', 'Educação', 'Esporte e Lazer', 'Habitação', 'Infraestrutura Urbana e Obras', 'Inovação e Tecnologia', 'Meio Ambiente', 'Outros temas', 'Pessoa com Deficiência', 'Saúde', 'Segurança Urbana', 'Transportes e Mobilidade', 'Urbanismo e Licenciamento', 'Zeladoria Urbana e melhorias de bairro'])"
      ]
     },
     "execution_count": 3,
     "metadata": {},
     "output_type": "execute_result"
    }
   ],
   "source": [
    "data.keys()"
   ]
  },
  {
   "cell_type": "markdown",
   "metadata": {},
   "source": [
    "Adicionando o tema às contribuições"
   ]
  },
  {
   "cell_type": "code",
   "execution_count": 4,
   "metadata": {},
   "outputs": [],
   "source": [
    "all_data = []\n",
    "for tema, contribs in data.items():\n",
    "    for contrib in contribs:\n",
    "        contrib['tema'] = tema\n",
    "    all_data.extend(contribs)"
   ]
  },
  {
   "cell_type": "code",
   "execution_count": 5,
   "metadata": {},
   "outputs": [
    {
     "data": {
      "text/plain": [
       "dict_keys(['id', 'nomeMunicipe', 'canal', 'integra', 'sugestoes', 'tema'])"
      ]
     },
     "execution_count": 5,
     "metadata": {},
     "output_type": "execute_result"
    }
   ],
   "source": [
    "all_data[0].keys()"
   ]
  },
  {
   "cell_type": "code",
   "execution_count": 6,
   "metadata": {},
   "outputs": [],
   "source": [
    "def parse_temas(contrib:JSON_TYPE)->list[str]:\n",
    "\n",
    "\n",
    "    TEMA_GENERICO = 'Outros temas'\n",
    "    tema_set =set(sugestao['tema']['categoria']['nome']\n",
    "                   for sugestao in contrib['sugestoes']\n",
    "                   )\n",
    "    if TEMA_GENERICO in tema_set:\n",
    "        tema_set.remove(TEMA_GENERICO)\n",
    "    \n",
    "    return list(tema_set)"
   ]
  },
  {
   "cell_type": "markdown",
   "metadata": {},
   "source": [
    "Unpacking das sugestões para format flat (nome do municipe não interessa)"
   ]
  },
  {
   "cell_type": "code",
   "execution_count": 7,
   "metadata": {},
   "outputs": [
    {
     "name": "stdout",
     "output_type": "stream",
     "text": [
      "Total 40120 registros\n"
     ]
    }
   ],
   "source": [
    "parsed_all_data: list[dict] = []\n",
    "for contrib in all_data:\n",
    "    parsed_data = {\n",
    "        'id' : contrib['id'],\n",
    "        'canal' : contrib['canal']['nome'],\n",
    "        'texto' : contrib['integra'],\n",
    "        'temas' : parse_temas(contrib)\n",
    "    }\n",
    "\n",
    "    parsed_all_data.append(parsed_data)\n",
    "\n",
    "print(f'Total {len(parsed_all_data)} registros')\n",
    "    "
   ]
  },
  {
   "cell_type": "code",
   "execution_count": 8,
   "metadata": {},
   "outputs": [
    {
     "data": {
      "text/plain": [
       "[{'id': 1,\n",
       "  'canal': 'Audiência Geral',\n",
       "  'texto': 'Boa tarde a todas e todos, meu nome é Francisco, apelido Chicão, morador do Butantã na região do Monte Kemel, faço parte do movimento Parque Chácara do Jockey, sou integrante também do fórum Verde permanente de parques praças e áreas verdes da cidade de São Paulo.\\n Acho, que a primeira manifestação dos coletivos todos e também das regiões, é a nossa preocupação com a falta de objetividade das metas, quer dizer as metas precisam ser melhor esclarecidas né. A gente não consegue identificar as metas e as regiões onde elas vão ser aplicadas, aonde elas podem sofrer o controle social da comunidade inclusive. Então essa é uma reivindicação para as etapas regionais, que a gente possa definir essas metas e melhorar a definição dessas metas e relacioná-las com as necessidades de cada região, de cada bairro, essa é uma preocupação que em a gente identificou na cidade.\\nA segunda preocupação é com a questão da área de Meio Ambiente. Então a gente tem no plano diretor a definição da implantação de mais de 60 parques, e a gente entende que a meta de criação de parques é uma metade tímida, oito parques apenas indicados para serem criados nos próximos anos e também a gente sente falta de metas que atendam e resolva o problema da precarização de parques. Desde a da indicação né da concessão de parques na cidade a partir de 2017, na gestão do prefeito Doria, a gente sente a falta de investimentos nos parques urbanos, uma falta de atendimento e de melhoria nesses parques, de forma geral os parques urbanos na cidade de São Paulo estão abandonados.\\nOs conselhos gestores também dos parques nas cidades, sofrem com a dificuldade de poder atuar a de poder fazer o controle social, a gente sente falta também que essas metas dão aos conselheiros gestores, inclusive perderam o poder deliberativo a partir de uma iniciativa da prefeitura, para facilitar a concessão de parques e a gente sente falta também de metas mais específicas para as áreas de Proteção Ambiental e as áreas de Mananciais.  Então são áreas que estão cada vez mais degradados sofrendo com o impacto da ocupação dessas áreas, e a gente sente falta de políticas públicas que possam dar conta disso, a gente tem inclusive um dossiê muito importante do vereador Natalini, na época que ela Vereador, e a gente precisa de metas e de ações nessas áreas também. Agradeço então a possibilidade de participar, mas principalmente isso a gente precisa relacionar essas metas com as demandas das regiões, acho que essa é a grande reivindicação a cidade e a gente precisa dar conta disso nas etapas regionais. Obrigado.',\n",
       "  'temas': ['Meio Ambiente']},\n",
       " {'id': 2,\n",
       "  'canal': 'Audiência Geral',\n",
       "  'texto': 'Oi Sou Mário Sérgio Bortolotto, por favor você me responde já se encontra habilitado para desbloqueio. Oi, boa tarde, estou me ouvindo sim, boa tarde a todas e todos.\\nO Márcio Bezerra falou sobre a questão do território de interesse da Cultura e da Paisagem, o que é um instrumento urbanístico que foi aprovado o plano diretor é dois TICPs, Luz-Paulista e Perus–Jaraguá. E nós gostaríamos de saber nessas metas todas onde que o TICP está sendo contemplado. Porque é um instrumento que se relaciona com o território que tem uma potência muito grande com relação à cultura, meio ambiente e educação, que é Perus e Jaraguá.  E a gente queria saber então em que metas vai ser inserir o território de interesse da cultura da paisagem, porque analisando as metas da nossa região é nós temos que pensar, na cidade toda. Mas analisando as metas da nossa região que menos Anhanguera, a gente não vê nenhuma meta por exemplo de Cultura, não viu nenhuma meta de educação somente uma meta e de Meio Ambiente. algumas metas não foram cumpridas e a pergunta é: Vocês analisaram e as metas anteriores? Elas foram cumpridas para poder estabelecer essas novas metas? Com essa análise que vocês fizeram para cumprir essas metas que serão agora. Por que a gente precisa saber se as metas anteriores foram cumpridas quais os resultados que elas tiveram, para poder criar essas novas metas para a cidade toda então a minha pergunta é: Isso se relaciona com relação ao território interessa cultura da paisagem? Eu vi lá distritos criativos, mas ele não fala do TIPC, e o TICP é o potencial do distrito criativo, nós temos ações que estão sendo realizadas nesse território à revelia do próprio instrumento, que na prática já estão acontecendo e nós precisamos criar nesse território o conselho gestor.\\nEntão tem toda uma situação que precisa ser acrescentado no território, então a pergunta é essa: Onde é que nós estamos inseridos, enquanto território de interesse da cultura da paisagem?\\nE para finaliza gostaria de dizer, que nós esperamos que a participação seja ampliada, por que em tempos de pandemias, como disse o primeiro na primeira fala, nós também não vimos nenhuma meta que se relaciona como os grandes problemas que a pandemia causou e vai causar na cidade de São Paulo e nós precisamos pensar nisso, para ela poder dar respostas a essa população que está sofrendo com pandemia.\\nObrigado.',\n",
       "  'temas': ['Urbanismo e Licenciamento']},\n",
       " {'id': 3,\n",
       "  'canal': 'Audiência Geral',\n",
       "  'texto': 'Então boa tarde a todos e todas.  Eu comprimento a secretária Vivian Satiro e demais autoridades, agradeço o espaço.\\nBom estou aqui, sou Elizabeth Grimberg, representando a campanha São Paulo Composta Cultiva, nós já tivemos uma das nossas 56 parceiras que falou anteriormente e eu agradeço também.\\nGostaria de iniciar lembrando que o prefeito Bruno Covas, ele assinou a Carta Compromisso da campanha São Paulo Composta Cultiva, e nós já submetemos nossas propostas na plataforma, estão as metas 59 e 67.\\n Então eu, queria entrar brevemente posso ter ar colocar aqui nós consideramos positiva a meta 59 de estruturar 400 hortas, mas nós sugerimos, tem outras coisas, mas, destacar que se inclua uma meta para beneficiamento de 200 produtores rurais e urbanos, garantindo a assistência técnica, a gente acha muito importante esse ponto, e da Meta 67 que estabelece basicamente reduzido 600 mil toneladas a quantidade de resíduos criados nos aterros entre 2021 e 2024, nós sugerimos gerimos que a meta deveria fazer reciclar e compostar 600 mil toneladas de resíduos entre 2021 e 2024.\\nNós gostaríamos de sugerir também as iniciativas do tipo que inclua, aumentar a capacidade de compostagem do município para 600 toneladas de resíduos orgânicos por dia, em áreas de aterro desativados e ativos. Nesse caso, iniciando um experimento de coleta diferenciada dos orgânicos da fração orgânica domiciliar, para que se comece realmente o aproveitamento integral dessa matéria-prima, de maneira ser destinada para empreendimentos de agroecologia e Agricultura Familiar.\\nTambém os gostaríamos de fosse alterada iniciativa “H” para atingir a totalidade das 900 feiras livres, com o projeto de compostagem funcionamento. O que é muito interessante que já atinge 180 feiras, mas aumentar a meta para 900 e também fluir a meta de incorporar o projeto de compostagem em funcionamento os 37 mercados sacolões públicos, 300 escolas municipais e outros grandes geradores públicos, assim como os resíduos de poda e jardinagem.\\nPor fim é como eu falei implantar um experimento de coleta seletiva, nós sugerimos domiciliar no distrito da Lapa, por exemplo, e por fim ampliar projeto de compostagem. A última frase eu vou dizer, é a inserção de pelo menos 8.000 composteira por comodato.',\n",
       "  'temas': ['Zeladoria Urbana e melhorias de bairro',\n",
       "   'Desenvolvimento Econômico e Trabalho']}]"
      ]
     },
     "execution_count": 8,
     "metadata": {},
     "output_type": "execute_result"
    }
   ],
   "source": [
    "parsed_all_data[:3]"
   ]
  },
  {
   "cell_type": "markdown",
   "metadata": {},
   "source": [
    "Está com muitos registros repetidos, vou fazer o filtro"
   ]
  },
  {
   "cell_type": "code",
   "execution_count": 9,
   "metadata": {},
   "outputs": [
    {
     "name": "stdout",
     "output_type": "stream",
     "text": [
      "Total registros deduplicados: 2312\n"
     ]
    }
   ],
   "source": [
    "conteudos_unicos = set()\n",
    "deduplicated_data = []\n",
    "for registro in parsed_all_data:\n",
    "    conteudo = registro['texto']\n",
    "    if conteudo in conteudos_unicos:\n",
    "        continue\n",
    "    \n",
    "    deduplicated_data.append(registro)\n",
    "    conteudos_unicos.add(conteudo)\n",
    "\n",
    "print(f'Total registros deduplicados: {len(deduplicated_data)}')"
   ]
  },
  {
   "cell_type": "code",
   "execution_count": 10,
   "metadata": {},
   "outputs": [
    {
     "data": {
      "text/plain": [
       "[{'id': 1,\n",
       "  'canal': 'Audiência Geral',\n",
       "  'texto': 'Boa tarde a todas e todos, meu nome é Francisco, apelido Chicão, morador do Butantã na região do Monte Kemel, faço parte do movimento Parque Chácara do Jockey, sou integrante também do fórum Verde permanente de parques praças e áreas verdes da cidade de São Paulo.\\n Acho, que a primeira manifestação dos coletivos todos e também das regiões, é a nossa preocupação com a falta de objetividade das metas, quer dizer as metas precisam ser melhor esclarecidas né. A gente não consegue identificar as metas e as regiões onde elas vão ser aplicadas, aonde elas podem sofrer o controle social da comunidade inclusive. Então essa é uma reivindicação para as etapas regionais, que a gente possa definir essas metas e melhorar a definição dessas metas e relacioná-las com as necessidades de cada região, de cada bairro, essa é uma preocupação que em a gente identificou na cidade.\\nA segunda preocupação é com a questão da área de Meio Ambiente. Então a gente tem no plano diretor a definição da implantação de mais de 60 parques, e a gente entende que a meta de criação de parques é uma metade tímida, oito parques apenas indicados para serem criados nos próximos anos e também a gente sente falta de metas que atendam e resolva o problema da precarização de parques. Desde a da indicação né da concessão de parques na cidade a partir de 2017, na gestão do prefeito Doria, a gente sente a falta de investimentos nos parques urbanos, uma falta de atendimento e de melhoria nesses parques, de forma geral os parques urbanos na cidade de São Paulo estão abandonados.\\nOs conselhos gestores também dos parques nas cidades, sofrem com a dificuldade de poder atuar a de poder fazer o controle social, a gente sente falta também que essas metas dão aos conselheiros gestores, inclusive perderam o poder deliberativo a partir de uma iniciativa da prefeitura, para facilitar a concessão de parques e a gente sente falta também de metas mais específicas para as áreas de Proteção Ambiental e as áreas de Mananciais.  Então são áreas que estão cada vez mais degradados sofrendo com o impacto da ocupação dessas áreas, e a gente sente falta de políticas públicas que possam dar conta disso, a gente tem inclusive um dossiê muito importante do vereador Natalini, na época que ela Vereador, e a gente precisa de metas e de ações nessas áreas também. Agradeço então a possibilidade de participar, mas principalmente isso a gente precisa relacionar essas metas com as demandas das regiões, acho que essa é a grande reivindicação a cidade e a gente precisa dar conta disso nas etapas regionais. Obrigado.',\n",
       "  'temas': ['Meio Ambiente']},\n",
       " {'id': 2,\n",
       "  'canal': 'Audiência Geral',\n",
       "  'texto': 'Oi Sou Mário Sérgio Bortolotto, por favor você me responde já se encontra habilitado para desbloqueio. Oi, boa tarde, estou me ouvindo sim, boa tarde a todas e todos.\\nO Márcio Bezerra falou sobre a questão do território de interesse da Cultura e da Paisagem, o que é um instrumento urbanístico que foi aprovado o plano diretor é dois TICPs, Luz-Paulista e Perus–Jaraguá. E nós gostaríamos de saber nessas metas todas onde que o TICP está sendo contemplado. Porque é um instrumento que se relaciona com o território que tem uma potência muito grande com relação à cultura, meio ambiente e educação, que é Perus e Jaraguá.  E a gente queria saber então em que metas vai ser inserir o território de interesse da cultura da paisagem, porque analisando as metas da nossa região é nós temos que pensar, na cidade toda. Mas analisando as metas da nossa região que menos Anhanguera, a gente não vê nenhuma meta por exemplo de Cultura, não viu nenhuma meta de educação somente uma meta e de Meio Ambiente. algumas metas não foram cumpridas e a pergunta é: Vocês analisaram e as metas anteriores? Elas foram cumpridas para poder estabelecer essas novas metas? Com essa análise que vocês fizeram para cumprir essas metas que serão agora. Por que a gente precisa saber se as metas anteriores foram cumpridas quais os resultados que elas tiveram, para poder criar essas novas metas para a cidade toda então a minha pergunta é: Isso se relaciona com relação ao território interessa cultura da paisagem? Eu vi lá distritos criativos, mas ele não fala do TIPC, e o TICP é o potencial do distrito criativo, nós temos ações que estão sendo realizadas nesse território à revelia do próprio instrumento, que na prática já estão acontecendo e nós precisamos criar nesse território o conselho gestor.\\nEntão tem toda uma situação que precisa ser acrescentado no território, então a pergunta é essa: Onde é que nós estamos inseridos, enquanto território de interesse da cultura da paisagem?\\nE para finaliza gostaria de dizer, que nós esperamos que a participação seja ampliada, por que em tempos de pandemias, como disse o primeiro na primeira fala, nós também não vimos nenhuma meta que se relaciona como os grandes problemas que a pandemia causou e vai causar na cidade de São Paulo e nós precisamos pensar nisso, para ela poder dar respostas a essa população que está sofrendo com pandemia.\\nObrigado.',\n",
       "  'temas': ['Urbanismo e Licenciamento']},\n",
       " {'id': 3,\n",
       "  'canal': 'Audiência Geral',\n",
       "  'texto': 'Então boa tarde a todos e todas.  Eu comprimento a secretária Vivian Satiro e demais autoridades, agradeço o espaço.\\nBom estou aqui, sou Elizabeth Grimberg, representando a campanha São Paulo Composta Cultiva, nós já tivemos uma das nossas 56 parceiras que falou anteriormente e eu agradeço também.\\nGostaria de iniciar lembrando que o prefeito Bruno Covas, ele assinou a Carta Compromisso da campanha São Paulo Composta Cultiva, e nós já submetemos nossas propostas na plataforma, estão as metas 59 e 67.\\n Então eu, queria entrar brevemente posso ter ar colocar aqui nós consideramos positiva a meta 59 de estruturar 400 hortas, mas nós sugerimos, tem outras coisas, mas, destacar que se inclua uma meta para beneficiamento de 200 produtores rurais e urbanos, garantindo a assistência técnica, a gente acha muito importante esse ponto, e da Meta 67 que estabelece basicamente reduzido 600 mil toneladas a quantidade de resíduos criados nos aterros entre 2021 e 2024, nós sugerimos gerimos que a meta deveria fazer reciclar e compostar 600 mil toneladas de resíduos entre 2021 e 2024.\\nNós gostaríamos de sugerir também as iniciativas do tipo que inclua, aumentar a capacidade de compostagem do município para 600 toneladas de resíduos orgânicos por dia, em áreas de aterro desativados e ativos. Nesse caso, iniciando um experimento de coleta diferenciada dos orgânicos da fração orgânica domiciliar, para que se comece realmente o aproveitamento integral dessa matéria-prima, de maneira ser destinada para empreendimentos de agroecologia e Agricultura Familiar.\\nTambém os gostaríamos de fosse alterada iniciativa “H” para atingir a totalidade das 900 feiras livres, com o projeto de compostagem funcionamento. O que é muito interessante que já atinge 180 feiras, mas aumentar a meta para 900 e também fluir a meta de incorporar o projeto de compostagem em funcionamento os 37 mercados sacolões públicos, 300 escolas municipais e outros grandes geradores públicos, assim como os resíduos de poda e jardinagem.\\nPor fim é como eu falei implantar um experimento de coleta seletiva, nós sugerimos domiciliar no distrito da Lapa, por exemplo, e por fim ampliar projeto de compostagem. A última frase eu vou dizer, é a inserção de pelo menos 8.000 composteira por comodato.',\n",
       "  'temas': ['Zeladoria Urbana e melhorias de bairro',\n",
       "   'Desenvolvimento Econômico e Trabalho']}]"
      ]
     },
     "execution_count": 10,
     "metadata": {},
     "output_type": "execute_result"
    }
   ],
   "source": [
    "deduplicated_data[:3]"
   ]
  },
  {
   "cell_type": "code",
   "execution_count": 11,
   "metadata": {},
   "outputs": [],
   "source": [
    "df = pd.DataFrame(deduplicated_data)"
   ]
  },
  {
   "cell_type": "code",
   "execution_count": 12,
   "metadata": {},
   "outputs": [
    {
     "data": {
      "text/html": [
       "<div>\n",
       "<style scoped>\n",
       "    .dataframe tbody tr th:only-of-type {\n",
       "        vertical-align: middle;\n",
       "    }\n",
       "\n",
       "    .dataframe tbody tr th {\n",
       "        vertical-align: top;\n",
       "    }\n",
       "\n",
       "    .dataframe thead th {\n",
       "        text-align: right;\n",
       "    }\n",
       "</style>\n",
       "<table border=\"1\" class=\"dataframe\">\n",
       "  <thead>\n",
       "    <tr style=\"text-align: right;\">\n",
       "      <th></th>\n",
       "      <th>id</th>\n",
       "      <th>canal</th>\n",
       "      <th>texto</th>\n",
       "      <th>temas</th>\n",
       "    </tr>\n",
       "  </thead>\n",
       "  <tbody>\n",
       "    <tr>\n",
       "      <th>0</th>\n",
       "      <td>1</td>\n",
       "      <td>Audiência Geral</td>\n",
       "      <td>Boa tarde a todas e todos, meu nome é Francisc...</td>\n",
       "      <td>[Meio Ambiente]</td>\n",
       "    </tr>\n",
       "    <tr>\n",
       "      <th>1</th>\n",
       "      <td>2</td>\n",
       "      <td>Audiência Geral</td>\n",
       "      <td>Oi Sou Mário Sérgio Bortolotto, por favor você...</td>\n",
       "      <td>[Urbanismo e Licenciamento]</td>\n",
       "    </tr>\n",
       "    <tr>\n",
       "      <th>2</th>\n",
       "      <td>3</td>\n",
       "      <td>Audiência Geral</td>\n",
       "      <td>Então boa tarde a todos e todas.  Eu comprimen...</td>\n",
       "      <td>[Zeladoria Urbana e melhorias de bairro, Desen...</td>\n",
       "    </tr>\n",
       "    <tr>\n",
       "      <th>3</th>\n",
       "      <td>4</td>\n",
       "      <td>Audiência Geral</td>\n",
       "      <td>Muito obrigada agradeço a oportunidade, eu tam...</td>\n",
       "      <td>[Zeladoria Urbana e melhorias de bairro, Desen...</td>\n",
       "    </tr>\n",
       "    <tr>\n",
       "      <th>4</th>\n",
       "      <td>5</td>\n",
       "      <td>Audiência Geral</td>\n",
       "      <td>Bom dia a todos, meu nome é Maria Luiza Kovals...</td>\n",
       "      <td>[Zeladoria Urbana e melhorias de bairro]</td>\n",
       "    </tr>\n",
       "  </tbody>\n",
       "</table>\n",
       "</div>"
      ],
      "text/plain": [
       "   id            canal                                              texto  \\\n",
       "0   1  Audiência Geral  Boa tarde a todas e todos, meu nome é Francisc...   \n",
       "1   2  Audiência Geral  Oi Sou Mário Sérgio Bortolotto, por favor você...   \n",
       "2   3  Audiência Geral  Então boa tarde a todos e todas.  Eu comprimen...   \n",
       "3   4  Audiência Geral  Muito obrigada agradeço a oportunidade, eu tam...   \n",
       "4   5  Audiência Geral  Bom dia a todos, meu nome é Maria Luiza Kovals...   \n",
       "\n",
       "                                               temas  \n",
       "0                                    [Meio Ambiente]  \n",
       "1                        [Urbanismo e Licenciamento]  \n",
       "2  [Zeladoria Urbana e melhorias de bairro, Desen...  \n",
       "3  [Zeladoria Urbana e melhorias de bairro, Desen...  \n",
       "4           [Zeladoria Urbana e melhorias de bairro]  "
      ]
     },
     "execution_count": 12,
     "metadata": {},
     "output_type": "execute_result"
    }
   ],
   "source": [
    "df.head()"
   ]
  },
  {
   "cell_type": "code",
   "execution_count": 13,
   "metadata": {},
   "outputs": [
    {
     "data": {
      "text/html": [
       "<div>\n",
       "<style scoped>\n",
       "    .dataframe tbody tr th:only-of-type {\n",
       "        vertical-align: middle;\n",
       "    }\n",
       "\n",
       "    .dataframe tbody tr th {\n",
       "        vertical-align: top;\n",
       "    }\n",
       "\n",
       "    .dataframe thead th {\n",
       "        text-align: right;\n",
       "    }\n",
       "</style>\n",
       "<table border=\"1\" class=\"dataframe\">\n",
       "  <thead>\n",
       "    <tr style=\"text-align: right;\">\n",
       "      <th></th>\n",
       "      <th>id</th>\n",
       "      <th>canal</th>\n",
       "      <th>texto</th>\n",
       "      <th>temas</th>\n",
       "    </tr>\n",
       "  </thead>\n",
       "  <tbody>\n",
       "    <tr>\n",
       "      <th>2307</th>\n",
       "      <td>3103</td>\n",
       "      <td>Audiência Regional - Jaçanã</td>\n",
       "      <td>Nós os moradores da Região observamos com o in...</td>\n",
       "      <td>[Assistência Social, Zeladoria Urbana e melhor...</td>\n",
       "    </tr>\n",
       "    <tr>\n",
       "      <th>2308</th>\n",
       "      <td>3104</td>\n",
       "      <td>Audiência Regional - Jaçanã</td>\n",
       "      <td>Brigada, boa noite. Eu sou conselheira municip...</td>\n",
       "      <td>[Meio Ambiente, Habitação, Desenvolvimento Eco...</td>\n",
       "    </tr>\n",
       "    <tr>\n",
       "      <th>2309</th>\n",
       "      <td>3105</td>\n",
       "      <td>Audiência Regional - Jaçanã</td>\n",
       "      <td>Primeiro eu sou Nelson Ferreira Filho. Na regi...</td>\n",
       "      <td>[Pessoa com Deficiência, Desenvolvimento Econô...</td>\n",
       "    </tr>\n",
       "    <tr>\n",
       "      <th>2310</th>\n",
       "      <td>3106</td>\n",
       "      <td>Audiência Regional - Jaçanã</td>\n",
       "      <td>Olá, boa noite a todos. Meu nome é Lucas, eu f...</td>\n",
       "      <td>[Cultura, Habitação, Educação]</td>\n",
       "    </tr>\n",
       "    <tr>\n",
       "      <th>2311</th>\n",
       "      <td>3107</td>\n",
       "      <td>Audiência Regional - Jaçanã</td>\n",
       "      <td>Olá boa noite a todas,todos e todas. Quero sau...</td>\n",
       "      <td>[Habitação, Desenvolvimento Econômico e Trabal...</td>\n",
       "    </tr>\n",
       "  </tbody>\n",
       "</table>\n",
       "</div>"
      ],
      "text/plain": [
       "        id                        canal  \\\n",
       "2307  3103  Audiência Regional - Jaçanã   \n",
       "2308  3104  Audiência Regional - Jaçanã   \n",
       "2309  3105  Audiência Regional - Jaçanã   \n",
       "2310  3106  Audiência Regional - Jaçanã   \n",
       "2311  3107  Audiência Regional - Jaçanã   \n",
       "\n",
       "                                                  texto  \\\n",
       "2307  Nós os moradores da Região observamos com o in...   \n",
       "2308  Brigada, boa noite. Eu sou conselheira municip...   \n",
       "2309  Primeiro eu sou Nelson Ferreira Filho. Na regi...   \n",
       "2310  Olá, boa noite a todos. Meu nome é Lucas, eu f...   \n",
       "2311  Olá boa noite a todas,todos e todas. Quero sau...   \n",
       "\n",
       "                                                  temas  \n",
       "2307  [Assistência Social, Zeladoria Urbana e melhor...  \n",
       "2308  [Meio Ambiente, Habitação, Desenvolvimento Eco...  \n",
       "2309  [Pessoa com Deficiência, Desenvolvimento Econô...  \n",
       "2310                     [Cultura, Habitação, Educação]  \n",
       "2311  [Habitação, Desenvolvimento Econômico e Trabal...  "
      ]
     },
     "execution_count": 13,
     "metadata": {},
     "output_type": "execute_result"
    }
   ],
   "source": [
    "df.tail()"
   ]
  },
  {
   "cell_type": "code",
   "execution_count": 14,
   "metadata": {},
   "outputs": [
    {
     "data": {
      "text/html": [
       "<div>\n",
       "<style scoped>\n",
       "    .dataframe tbody tr th:only-of-type {\n",
       "        vertical-align: middle;\n",
       "    }\n",
       "\n",
       "    .dataframe tbody tr th {\n",
       "        vertical-align: top;\n",
       "    }\n",
       "\n",
       "    .dataframe thead th {\n",
       "        text-align: right;\n",
       "    }\n",
       "</style>\n",
       "<table border=\"1\" class=\"dataframe\">\n",
       "  <thead>\n",
       "    <tr style=\"text-align: right;\">\n",
       "      <th></th>\n",
       "      <th>id</th>\n",
       "      <th>canal</th>\n",
       "      <th>texto</th>\n",
       "      <th>temas</th>\n",
       "    </tr>\n",
       "  </thead>\n",
       "  <tbody>\n",
       "    <tr>\n",
       "      <th>1563</th>\n",
       "      <td>2299</td>\n",
       "      <td>Participe+</td>\n",
       "      <td>Protesista na área da Subprefeitura de Pinheir...</td>\n",
       "      <td>[Saúde]</td>\n",
       "    </tr>\n",
       "    <tr>\n",
       "      <th>1834</th>\n",
       "      <td>2574</td>\n",
       "      <td>Participe+</td>\n",
       "      <td>Faixas exclusivas de ônibus. Ação recomendada ...</td>\n",
       "      <td>[Transportes e Mobilidade]</td>\n",
       "    </tr>\n",
       "    <tr>\n",
       "      <th>1218</th>\n",
       "      <td>1915</td>\n",
       "      <td>Participe+</td>\n",
       "      <td>Meta 15 - Revisar - Que tipo de serviço? tem q...</td>\n",
       "      <td>[Assistência Social]</td>\n",
       "    </tr>\n",
       "    <tr>\n",
       "      <th>711</th>\n",
       "      <td>888</td>\n",
       "      <td>Participe+</td>\n",
       "      <td>Construção de UBS no Chácara Três Meninas dist...</td>\n",
       "      <td>[Saúde]</td>\n",
       "    </tr>\n",
       "    <tr>\n",
       "      <th>1986</th>\n",
       "      <td>2727</td>\n",
       "      <td>Participe+</td>\n",
       "      <td>CRIAR CASA DE CULTURA JD VILA FORMOSA REGIÃO D...</td>\n",
       "      <td>[Cultura]</td>\n",
       "    </tr>\n",
       "    <tr>\n",
       "      <th>188</th>\n",
       "      <td>189</td>\n",
       "      <td>Audiência Regional - Lapa</td>\n",
       "      <td>Oi boa noite a todos. É um prazer né participa...</td>\n",
       "      <td>[Cultura]</td>\n",
       "    </tr>\n",
       "    <tr>\n",
       "      <th>253</th>\n",
       "      <td>254</td>\n",
       "      <td>Audiência Temática 1 (SP Justa e Inclusiva)</td>\n",
       "      <td>Bom, obrigada pela oportunidade de estar aqui ...</td>\n",
       "      <td>[Pessoa com Deficiência]</td>\n",
       "    </tr>\n",
       "    <tr>\n",
       "      <th>747</th>\n",
       "      <td>1068</td>\n",
       "      <td>Participe+</td>\n",
       "      <td>Meta 60 - Manter - Publicar os locais dos novo...</td>\n",
       "      <td>[Meio Ambiente]</td>\n",
       "    </tr>\n",
       "    <tr>\n",
       "      <th>704</th>\n",
       "      <td>854</td>\n",
       "      <td>Participe+</td>\n",
       "      <td>Criação de uma Unidade de Referência à Saúde d...</td>\n",
       "      <td>[Saúde]</td>\n",
       "    </tr>\n",
       "    <tr>\n",
       "      <th>1949</th>\n",
       "      <td>2689</td>\n",
       "      <td>Participe+</td>\n",
       "      <td>Puericultura. Focar em consultas de puericultu...</td>\n",
       "      <td>[Saúde]</td>\n",
       "    </tr>\n",
       "  </tbody>\n",
       "</table>\n",
       "</div>"
      ],
      "text/plain": [
       "        id                                        canal  \\\n",
       "1563  2299                                   Participe+   \n",
       "1834  2574                                   Participe+   \n",
       "1218  1915                                   Participe+   \n",
       "711    888                                   Participe+   \n",
       "1986  2727                                   Participe+   \n",
       "188    189                    Audiência Regional - Lapa   \n",
       "253    254  Audiência Temática 1 (SP Justa e Inclusiva)   \n",
       "747   1068                                   Participe+   \n",
       "704    854                                   Participe+   \n",
       "1949  2689                                   Participe+   \n",
       "\n",
       "                                                  texto  \\\n",
       "1563  Protesista na área da Subprefeitura de Pinheir...   \n",
       "1834  Faixas exclusivas de ônibus. Ação recomendada ...   \n",
       "1218  Meta 15 - Revisar - Que tipo de serviço? tem q...   \n",
       "711   Construção de UBS no Chácara Três Meninas dist...   \n",
       "1986  CRIAR CASA DE CULTURA JD VILA FORMOSA REGIÃO D...   \n",
       "188   Oi boa noite a todos. É um prazer né participa...   \n",
       "253   Bom, obrigada pela oportunidade de estar aqui ...   \n",
       "747   Meta 60 - Manter - Publicar os locais dos novo...   \n",
       "704   Criação de uma Unidade de Referência à Saúde d...   \n",
       "1949  Puericultura. Focar em consultas de puericultu...   \n",
       "\n",
       "                           temas  \n",
       "1563                     [Saúde]  \n",
       "1834  [Transportes e Mobilidade]  \n",
       "1218        [Assistência Social]  \n",
       "711                      [Saúde]  \n",
       "1986                   [Cultura]  \n",
       "188                    [Cultura]  \n",
       "253     [Pessoa com Deficiência]  \n",
       "747              [Meio Ambiente]  \n",
       "704                      [Saúde]  \n",
       "1949                     [Saúde]  "
      ]
     },
     "execution_count": 14,
     "metadata": {},
     "output_type": "execute_result"
    }
   ],
   "source": [
    "df.sample(10)"
   ]
  },
  {
   "cell_type": "code",
   "execution_count": 15,
   "metadata": {},
   "outputs": [],
   "source": [
    "df.to_csv(os.path.join(DATA_DIR, 'dados_orginais_contribuicoes.csv'), sep=';')"
   ]
  },
  {
   "cell_type": "code",
   "execution_count": null,
   "metadata": {},
   "outputs": [],
   "source": []
  }
 ],
 "metadata": {
  "kernelspec": {
   "display_name": "venv",
   "language": "python",
   "name": "python3"
  },
  "language_info": {
   "codemirror_mode": {
    "name": "ipython",
    "version": 3
   },
   "file_extension": ".py",
   "mimetype": "text/x-python",
   "name": "python",
   "nbconvert_exporter": "python",
   "pygments_lexer": "ipython3",
   "version": "3.13.1"
  }
 },
 "nbformat": 4,
 "nbformat_minor": 2
}
