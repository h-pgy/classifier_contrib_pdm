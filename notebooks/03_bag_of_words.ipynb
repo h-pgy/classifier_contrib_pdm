{
 "cells": [
  {
   "cell_type": "code",
   "execution_count": 1,
   "metadata": {},
   "outputs": [],
   "source": [
    "import pandas as pd \n",
    "from utils import read_df, save_df_parquet, sample_series\n",
    "import ast\n",
    "import nltk"
   ]
  },
  {
   "cell_type": "code",
   "execution_count": 2,
   "metadata": {},
   "outputs": [],
   "source": [
    "df: pd.DataFrame = read_df('dados_tokenizados.csv')"
   ]
  },
  {
   "cell_type": "code",
   "execution_count": 3,
   "metadata": {},
   "outputs": [
    {
     "data": {
      "text/html": [
       "<div>\n",
       "<style scoped>\n",
       "    .dataframe tbody tr th:only-of-type {\n",
       "        vertical-align: middle;\n",
       "    }\n",
       "\n",
       "    .dataframe tbody tr th {\n",
       "        vertical-align: top;\n",
       "    }\n",
       "\n",
       "    .dataframe thead th {\n",
       "        text-align: right;\n",
       "    }\n",
       "</style>\n",
       "<table border=\"1\" class=\"dataframe\">\n",
       "  <thead>\n",
       "    <tr style=\"text-align: right;\">\n",
       "      <th></th>\n",
       "      <th>id</th>\n",
       "      <th>canal</th>\n",
       "      <th>texto_original</th>\n",
       "      <th>temas</th>\n",
       "      <th>texto_limpo</th>\n",
       "      <th>tokens</th>\n",
       "      <th>tokens_clean</th>\n",
       "    </tr>\n",
       "  </thead>\n",
       "  <tbody>\n",
       "    <tr>\n",
       "      <th>2268</th>\n",
       "      <td>3064</td>\n",
       "      <td>Audiência Regional - Perus</td>\n",
       "      <td>Boa noite a todos, todas e todes. Eu sou  Mari...</td>\n",
       "      <td>['Saúde', 'Habitação', 'Cultura']</td>\n",
       "      <td>boa noite a todos, todas e todes. eu sou  mari...</td>\n",
       "      <td>['boa', 'noite', 'a', 'todos', ',', 'todas', '...</td>\n",
       "      <td>['boa', 'noite', 'todos', 'todas', 'todes', 'm...</td>\n",
       "    </tr>\n",
       "    <tr>\n",
       "      <th>2148</th>\n",
       "      <td>2904</td>\n",
       "      <td>Participe+</td>\n",
       "      <td>Meta 43 - Revisar - Deveria ser feito corredor...</td>\n",
       "      <td>['Transportes e Mobilidade']</td>\n",
       "      <td>meta 43 - revisar - deveria ser feito corredor...</td>\n",
       "      <td>['meta', '43', '-', 'revisar', '-', 'deveria',...</td>\n",
       "      <td>['revisar', 'deveria', 'feito', 'corredor', 'o...</td>\n",
       "    </tr>\n",
       "    <tr>\n",
       "      <th>1977</th>\n",
       "      <td>2718</td>\n",
       "      <td>Participe+</td>\n",
       "      <td>PROPOSTA DO NOVO VIÁRIO DE ACESSO AO DISTRITO ...</td>\n",
       "      <td>['Infraestrutura Urbana e Obras']</td>\n",
       "      <td>proposta do novo viário de acesso ao distrito ...</td>\n",
       "      <td>['proposta', 'do', 'novo', 'viário', 'de', 'ac...</td>\n",
       "      <td>['proposta', 'novo', 'viario', 'acesso', 'dist...</td>\n",
       "    </tr>\n",
       "  </tbody>\n",
       "</table>\n",
       "</div>"
      ],
      "text/plain": [
       "        id                       canal  \\\n",
       "2268  3064  Audiência Regional - Perus   \n",
       "2148  2904                  Participe+   \n",
       "1977  2718                  Participe+   \n",
       "\n",
       "                                         texto_original  \\\n",
       "2268  Boa noite a todos, todas e todes. Eu sou  Mari...   \n",
       "2148  Meta 43 - Revisar - Deveria ser feito corredor...   \n",
       "1977  PROPOSTA DO NOVO VIÁRIO DE ACESSO AO DISTRITO ...   \n",
       "\n",
       "                                  temas  \\\n",
       "2268  ['Saúde', 'Habitação', 'Cultura']   \n",
       "2148       ['Transportes e Mobilidade']   \n",
       "1977  ['Infraestrutura Urbana e Obras']   \n",
       "\n",
       "                                            texto_limpo  \\\n",
       "2268  boa noite a todos, todas e todes. eu sou  mari...   \n",
       "2148  meta 43 - revisar - deveria ser feito corredor...   \n",
       "1977  proposta do novo viário de acesso ao distrito ...   \n",
       "\n",
       "                                                 tokens  \\\n",
       "2268  ['boa', 'noite', 'a', 'todos', ',', 'todas', '...   \n",
       "2148  ['meta', '43', '-', 'revisar', '-', 'deveria',...   \n",
       "1977  ['proposta', 'do', 'novo', 'viário', 'de', 'ac...   \n",
       "\n",
       "                                           tokens_clean  \n",
       "2268  ['boa', 'noite', 'todos', 'todas', 'todes', 'm...  \n",
       "2148  ['revisar', 'deveria', 'feito', 'corredor', 'o...  \n",
       "1977  ['proposta', 'novo', 'viario', 'acesso', 'dist...  "
      ]
     },
     "execution_count": 3,
     "metadata": {},
     "output_type": "execute_result"
    }
   ],
   "source": [
    "df.sample(3)"
   ]
  },
  {
   "cell_type": "markdown",
   "metadata": {},
   "source": [
    "Para construir a bag of words vou precisar apenas dos tokens e da classificacao.\n",
    "\n",
    "Terei que fazer o explode na classificação - pois um mesmo texto pode ter mais de um tema"
   ]
  },
  {
   "cell_type": "code",
   "execution_count": 4,
   "metadata": {},
   "outputs": [],
   "source": [
    "df = df[['tokens_clean', 'temas']]"
   ]
  },
  {
   "cell_type": "code",
   "execution_count": 5,
   "metadata": {},
   "outputs": [
    {
     "data": {
      "text/plain": [
       "tokens_clean    object\n",
       "temas           object\n",
       "dtype: object"
      ]
     },
     "execution_count": 5,
     "metadata": {},
     "output_type": "execute_result"
    }
   ],
   "source": [
    "df.dtypes"
   ]
  },
  {
   "cell_type": "code",
   "execution_count": 6,
   "metadata": {},
   "outputs": [
    {
     "data": {
      "text/html": [
       "<div>\n",
       "<style scoped>\n",
       "    .dataframe tbody tr th:only-of-type {\n",
       "        vertical-align: middle;\n",
       "    }\n",
       "\n",
       "    .dataframe tbody tr th {\n",
       "        vertical-align: top;\n",
       "    }\n",
       "\n",
       "    .dataframe thead th {\n",
       "        text-align: right;\n",
       "    }\n",
       "</style>\n",
       "<table border=\"1\" class=\"dataframe\">\n",
       "  <thead>\n",
       "    <tr style=\"text-align: right;\">\n",
       "      <th></th>\n",
       "      <th>tokens_clean</th>\n",
       "      <th>temas</th>\n",
       "    </tr>\n",
       "  </thead>\n",
       "  <tbody>\n",
       "    <tr>\n",
       "      <th>0</th>\n",
       "      <td>['boa', 'tarde', 'todas', 'todos', 'nome', 'fr...</td>\n",
       "      <td>['Meio Ambiente']</td>\n",
       "    </tr>\n",
       "    <tr>\n",
       "      <th>1</th>\n",
       "      <td>['oi', 'mario', 'sergio', 'bortolotto', 'favor...</td>\n",
       "      <td>['Urbanismo e Licenciamento']</td>\n",
       "    </tr>\n",
       "    <tr>\n",
       "      <th>2</th>\n",
       "      <td>['entao', 'boa', 'tarde', 'todos', 'todas', 'c...</td>\n",
       "      <td>['Zeladoria Urbana e melhorias de bairro', 'De...</td>\n",
       "    </tr>\n",
       "    <tr>\n",
       "      <th>3</th>\n",
       "      <td>['obrigada', 'agradeco', 'oportunidade', 'faco...</td>\n",
       "      <td>['Zeladoria Urbana e melhorias de bairro', 'De...</td>\n",
       "    </tr>\n",
       "    <tr>\n",
       "      <th>4</th>\n",
       "      <td>['bom', 'dia', 'todos', 'nome', 'maria', 'luiz...</td>\n",
       "      <td>['Zeladoria Urbana e melhorias de bairro']</td>\n",
       "    </tr>\n",
       "  </tbody>\n",
       "</table>\n",
       "</div>"
      ],
      "text/plain": [
       "                                        tokens_clean  \\\n",
       "0  ['boa', 'tarde', 'todas', 'todos', 'nome', 'fr...   \n",
       "1  ['oi', 'mario', 'sergio', 'bortolotto', 'favor...   \n",
       "2  ['entao', 'boa', 'tarde', 'todos', 'todas', 'c...   \n",
       "3  ['obrigada', 'agradeco', 'oportunidade', 'faco...   \n",
       "4  ['bom', 'dia', 'todos', 'nome', 'maria', 'luiz...   \n",
       "\n",
       "                                               temas  \n",
       "0                                  ['Meio Ambiente']  \n",
       "1                      ['Urbanismo e Licenciamento']  \n",
       "2  ['Zeladoria Urbana e melhorias de bairro', 'De...  \n",
       "3  ['Zeladoria Urbana e melhorias de bairro', 'De...  \n",
       "4         ['Zeladoria Urbana e melhorias de bairro']  "
      ]
     },
     "execution_count": 6,
     "metadata": {},
     "output_type": "execute_result"
    }
   ],
   "source": [
    "df.head()"
   ]
  },
  {
   "cell_type": "code",
   "execution_count": 7,
   "metadata": {},
   "outputs": [],
   "source": [
    "def parse_lst_column(lst_str)->list[str]:\n",
    "\n",
    "    if type(lst_str) is not str:\n",
    "        #bizarro - mas alguns registros estao como listas ou como arrays mesmo\n",
    "        lst_str = f\"[{', '.join(lst_str)}]\"\n",
    "\n",
    "    lst_str = lst_str.lstrip('array')\n",
    "\n",
    "    return ast.literal_eval(lst_str)\n",
    "    "
   ]
  },
  {
   "cell_type": "code",
   "execution_count": 8,
   "metadata": {},
   "outputs": [],
   "source": [
    "df['temas'] = df['temas'].apply(parse_lst_column)\n",
    "df['tokens_clean'] = df['tokens_clean'].apply(parse_lst_column)"
   ]
  },
  {
   "cell_type": "code",
   "execution_count": 9,
   "metadata": {},
   "outputs": [
    {
     "data": {
      "text/html": [
       "<div>\n",
       "<style scoped>\n",
       "    .dataframe tbody tr th:only-of-type {\n",
       "        vertical-align: middle;\n",
       "    }\n",
       "\n",
       "    .dataframe tbody tr th {\n",
       "        vertical-align: top;\n",
       "    }\n",
       "\n",
       "    .dataframe thead th {\n",
       "        text-align: right;\n",
       "    }\n",
       "</style>\n",
       "<table border=\"1\" class=\"dataframe\">\n",
       "  <thead>\n",
       "    <tr style=\"text-align: right;\">\n",
       "      <th></th>\n",
       "      <th>tokens_clean</th>\n",
       "      <th>temas</th>\n",
       "    </tr>\n",
       "  </thead>\n",
       "  <tbody>\n",
       "    <tr>\n",
       "      <th>1740</th>\n",
       "      <td>[piu, arco, tiete, elaborar, processo, partici...</td>\n",
       "      <td>[Urbanismo e Licenciamento]</td>\n",
       "    </tr>\n",
       "    <tr>\n",
       "      <th>188</th>\n",
       "      <td>[oi, boa, noite, todos, prazer, ne, participar...</td>\n",
       "      <td>[Cultura]</td>\n",
       "    </tr>\n",
       "    <tr>\n",
       "      <th>1138</th>\n",
       "      <td>[revitalizacao, parque, dom, pedro, implantaca...</td>\n",
       "      <td>[Urbanismo e Licenciamento, Infraestrutura Urb...</td>\n",
       "    </tr>\n",
       "  </tbody>\n",
       "</table>\n",
       "</div>"
      ],
      "text/plain": [
       "                                           tokens_clean  \\\n",
       "1740  [piu, arco, tiete, elaborar, processo, partici...   \n",
       "188   [oi, boa, noite, todos, prazer, ne, participar...   \n",
       "1138  [revitalizacao, parque, dom, pedro, implantaca...   \n",
       "\n",
       "                                                  temas  \n",
       "1740                        [Urbanismo e Licenciamento]  \n",
       "188                                           [Cultura]  \n",
       "1138  [Urbanismo e Licenciamento, Infraestrutura Urb...  "
      ]
     },
     "execution_count": 9,
     "metadata": {},
     "output_type": "execute_result"
    }
   ],
   "source": [
    "df.sample(3)"
   ]
  },
  {
   "cell_type": "code",
   "execution_count": 10,
   "metadata": {},
   "outputs": [
    {
     "data": {
      "text/html": [
       "<div>\n",
       "<style scoped>\n",
       "    .dataframe tbody tr th:only-of-type {\n",
       "        vertical-align: middle;\n",
       "    }\n",
       "\n",
       "    .dataframe tbody tr th {\n",
       "        vertical-align: top;\n",
       "    }\n",
       "\n",
       "    .dataframe thead th {\n",
       "        text-align: right;\n",
       "    }\n",
       "</style>\n",
       "<table border=\"1\" class=\"dataframe\">\n",
       "  <thead>\n",
       "    <tr style=\"text-align: right;\">\n",
       "      <th></th>\n",
       "      <th>tokens_clean</th>\n",
       "      <th>tema</th>\n",
       "    </tr>\n",
       "  </thead>\n",
       "  <tbody>\n",
       "    <tr>\n",
       "      <th>1421</th>\n",
       "      <td>[regionalizar, orcamento, publico, municipal, ...</td>\n",
       "      <td>NaN</td>\n",
       "    </tr>\n",
       "    <tr>\n",
       "      <th>235</th>\n",
       "      <td>[boa, noite, ketlyn, professora, regiao, migue...</td>\n",
       "      <td>Zeladoria Urbana e melhorias de bairro</td>\n",
       "    </tr>\n",
       "    <tr>\n",
       "      <th>77</th>\n",
       "      <td>[bom, dia, todos, todas, vandoir, jose, souza,...</td>\n",
       "      <td>Habitação</td>\n",
       "    </tr>\n",
       "  </tbody>\n",
       "</table>\n",
       "</div>"
      ],
      "text/plain": [
       "                                           tokens_clean  \\\n",
       "1421  [regionalizar, orcamento, publico, municipal, ...   \n",
       "235   [boa, noite, ketlyn, professora, regiao, migue...   \n",
       "77    [bom, dia, todos, todas, vandoir, jose, souza,...   \n",
       "\n",
       "                                        tema  \n",
       "1421                                     NaN  \n",
       "235   Zeladoria Urbana e melhorias de bairro  \n",
       "77                                 Habitação  "
      ]
     },
     "execution_count": 10,
     "metadata": {},
     "output_type": "execute_result"
    }
   ],
   "source": [
    "df = df.explode('temas')\n",
    "df.rename({'temas' : 'tema'}, axis=1, inplace=True)\n",
    "\n",
    "df.sample(3)"
   ]
  },
  {
   "cell_type": "code",
   "execution_count": 11,
   "metadata": {},
   "outputs": [],
   "source": [
    "df.reset_index(drop=True, inplace=True)"
   ]
  },
  {
   "cell_type": "code",
   "execution_count": 12,
   "metadata": {},
   "outputs": [],
   "source": [
    "df['id'] = df.index"
   ]
  },
  {
   "cell_type": "code",
   "execution_count": 13,
   "metadata": {},
   "outputs": [
    {
     "data": {
      "text/html": [
       "<div>\n",
       "<style scoped>\n",
       "    .dataframe tbody tr th:only-of-type {\n",
       "        vertical-align: middle;\n",
       "    }\n",
       "\n",
       "    .dataframe tbody tr th {\n",
       "        vertical-align: top;\n",
       "    }\n",
       "\n",
       "    .dataframe thead th {\n",
       "        text-align: right;\n",
       "    }\n",
       "</style>\n",
       "<table border=\"1\" class=\"dataframe\">\n",
       "  <thead>\n",
       "    <tr style=\"text-align: right;\">\n",
       "      <th></th>\n",
       "      <th>tokens_clean</th>\n",
       "      <th>tema</th>\n",
       "      <th>id</th>\n",
       "    </tr>\n",
       "  </thead>\n",
       "  <tbody>\n",
       "    <tr>\n",
       "      <th>0</th>\n",
       "      <td>[boa, tarde, todas, todos, nome, francisco, ap...</td>\n",
       "      <td>Meio Ambiente</td>\n",
       "      <td>0</td>\n",
       "    </tr>\n",
       "    <tr>\n",
       "      <th>1</th>\n",
       "      <td>[oi, mario, sergio, bortolotto, favor, respond...</td>\n",
       "      <td>Urbanismo e Licenciamento</td>\n",
       "      <td>1</td>\n",
       "    </tr>\n",
       "    <tr>\n",
       "      <th>2</th>\n",
       "      <td>[entao, boa, tarde, todos, todas, comprimento,...</td>\n",
       "      <td>Zeladoria Urbana e melhorias de bairro</td>\n",
       "      <td>2</td>\n",
       "    </tr>\n",
       "    <tr>\n",
       "      <th>3</th>\n",
       "      <td>[entao, boa, tarde, todos, todas, comprimento,...</td>\n",
       "      <td>Desenvolvimento Econômico e Trabalho</td>\n",
       "      <td>3</td>\n",
       "    </tr>\n",
       "    <tr>\n",
       "      <th>4</th>\n",
       "      <td>[obrigada, agradeco, oportunidade, faco, parte...</td>\n",
       "      <td>Zeladoria Urbana e melhorias de bairro</td>\n",
       "      <td>4</td>\n",
       "    </tr>\n",
       "  </tbody>\n",
       "</table>\n",
       "</div>"
      ],
      "text/plain": [
       "                                        tokens_clean  \\\n",
       "0  [boa, tarde, todas, todos, nome, francisco, ap...   \n",
       "1  [oi, mario, sergio, bortolotto, favor, respond...   \n",
       "2  [entao, boa, tarde, todos, todas, comprimento,...   \n",
       "3  [entao, boa, tarde, todos, todas, comprimento,...   \n",
       "4  [obrigada, agradeco, oportunidade, faco, parte...   \n",
       "\n",
       "                                     tema  id  \n",
       "0                           Meio Ambiente   0  \n",
       "1               Urbanismo e Licenciamento   1  \n",
       "2  Zeladoria Urbana e melhorias de bairro   2  \n",
       "3    Desenvolvimento Econômico e Trabalho   3  \n",
       "4  Zeladoria Urbana e melhorias de bairro   4  "
      ]
     },
     "execution_count": 13,
     "metadata": {},
     "output_type": "execute_result"
    }
   ],
   "source": [
    "df.head()"
   ]
  },
  {
   "cell_type": "code",
   "execution_count": 14,
   "metadata": {},
   "outputs": [],
   "source": [
    "from sklearn.feature_extraction.text import CountVectorizer"
   ]
  },
  {
   "cell_type": "code",
   "execution_count": 15,
   "metadata": {},
   "outputs": [],
   "source": [
    "df['corpora'] = df['tokens_clean'].apply(lambda x: ' '.join(x))"
   ]
  },
  {
   "cell_type": "code",
   "execution_count": 16,
   "metadata": {},
   "outputs": [
    {
     "data": {
      "text/html": [
       "<div>\n",
       "<style scoped>\n",
       "    .dataframe tbody tr th:only-of-type {\n",
       "        vertical-align: middle;\n",
       "    }\n",
       "\n",
       "    .dataframe tbody tr th {\n",
       "        vertical-align: top;\n",
       "    }\n",
       "\n",
       "    .dataframe thead th {\n",
       "        text-align: right;\n",
       "    }\n",
       "</style>\n",
       "<table border=\"1\" class=\"dataframe\">\n",
       "  <thead>\n",
       "    <tr style=\"text-align: right;\">\n",
       "      <th></th>\n",
       "      <th>tokens_clean</th>\n",
       "      <th>tema</th>\n",
       "      <th>id</th>\n",
       "      <th>corpora</th>\n",
       "    </tr>\n",
       "  </thead>\n",
       "  <tbody>\n",
       "    <tr>\n",
       "      <th>0</th>\n",
       "      <td>[boa, tarde, todas, todos, nome, francisco, ap...</td>\n",
       "      <td>Meio Ambiente</td>\n",
       "      <td>0</td>\n",
       "      <td>boa tarde todas todos nome francisco apelido c...</td>\n",
       "    </tr>\n",
       "    <tr>\n",
       "      <th>1</th>\n",
       "      <td>[oi, mario, sergio, bortolotto, favor, respond...</td>\n",
       "      <td>Urbanismo e Licenciamento</td>\n",
       "      <td>1</td>\n",
       "      <td>oi mario sergio bortolotto favor responde enco...</td>\n",
       "    </tr>\n",
       "    <tr>\n",
       "      <th>2</th>\n",
       "      <td>[entao, boa, tarde, todos, todas, comprimento,...</td>\n",
       "      <td>Zeladoria Urbana e melhorias de bairro</td>\n",
       "      <td>2</td>\n",
       "      <td>entao boa tarde todos todas comprimento secret...</td>\n",
       "    </tr>\n",
       "    <tr>\n",
       "      <th>3</th>\n",
       "      <td>[entao, boa, tarde, todos, todas, comprimento,...</td>\n",
       "      <td>Desenvolvimento Econômico e Trabalho</td>\n",
       "      <td>3</td>\n",
       "      <td>entao boa tarde todos todas comprimento secret...</td>\n",
       "    </tr>\n",
       "    <tr>\n",
       "      <th>4</th>\n",
       "      <td>[obrigada, agradeco, oportunidade, faco, parte...</td>\n",
       "      <td>Zeladoria Urbana e melhorias de bairro</td>\n",
       "      <td>4</td>\n",
       "      <td>obrigada agradeco oportunidade faco parte rede...</td>\n",
       "    </tr>\n",
       "  </tbody>\n",
       "</table>\n",
       "</div>"
      ],
      "text/plain": [
       "                                        tokens_clean  \\\n",
       "0  [boa, tarde, todas, todos, nome, francisco, ap...   \n",
       "1  [oi, mario, sergio, bortolotto, favor, respond...   \n",
       "2  [entao, boa, tarde, todos, todas, comprimento,...   \n",
       "3  [entao, boa, tarde, todos, todas, comprimento,...   \n",
       "4  [obrigada, agradeco, oportunidade, faco, parte...   \n",
       "\n",
       "                                     tema  id  \\\n",
       "0                           Meio Ambiente   0   \n",
       "1               Urbanismo e Licenciamento   1   \n",
       "2  Zeladoria Urbana e melhorias de bairro   2   \n",
       "3    Desenvolvimento Econômico e Trabalho   3   \n",
       "4  Zeladoria Urbana e melhorias de bairro   4   \n",
       "\n",
       "                                             corpora  \n",
       "0  boa tarde todas todos nome francisco apelido c...  \n",
       "1  oi mario sergio bortolotto favor responde enco...  \n",
       "2  entao boa tarde todos todas comprimento secret...  \n",
       "3  entao boa tarde todos todas comprimento secret...  \n",
       "4  obrigada agradeco oportunidade faco parte rede...  "
      ]
     },
     "execution_count": 16,
     "metadata": {},
     "output_type": "execute_result"
    }
   ],
   "source": [
    "df.head()"
   ]
  },
  {
   "cell_type": "code",
   "execution_count": 17,
   "metadata": {},
   "outputs": [],
   "source": [
    "df = df[['id', 'corpora', 'tema']]"
   ]
  },
  {
   "cell_type": "code",
   "execution_count": 18,
   "metadata": {},
   "outputs": [
    {
     "data": {
      "text/html": [
       "<div>\n",
       "<style scoped>\n",
       "    .dataframe tbody tr th:only-of-type {\n",
       "        vertical-align: middle;\n",
       "    }\n",
       "\n",
       "    .dataframe tbody tr th {\n",
       "        vertical-align: top;\n",
       "    }\n",
       "\n",
       "    .dataframe thead th {\n",
       "        text-align: right;\n",
       "    }\n",
       "</style>\n",
       "<table border=\"1\" class=\"dataframe\">\n",
       "  <thead>\n",
       "    <tr style=\"text-align: right;\">\n",
       "      <th></th>\n",
       "      <th>id</th>\n",
       "      <th>corpora</th>\n",
       "      <th>tema</th>\n",
       "    </tr>\n",
       "  </thead>\n",
       "  <tbody>\n",
       "    <tr>\n",
       "      <th>0</th>\n",
       "      <td>0</td>\n",
       "      <td>boa tarde todas todos nome francisco apelido c...</td>\n",
       "      <td>Meio Ambiente</td>\n",
       "    </tr>\n",
       "    <tr>\n",
       "      <th>1</th>\n",
       "      <td>1</td>\n",
       "      <td>oi mario sergio bortolotto favor responde enco...</td>\n",
       "      <td>Urbanismo e Licenciamento</td>\n",
       "    </tr>\n",
       "    <tr>\n",
       "      <th>2</th>\n",
       "      <td>2</td>\n",
       "      <td>entao boa tarde todos todas comprimento secret...</td>\n",
       "      <td>Zeladoria Urbana e melhorias de bairro</td>\n",
       "    </tr>\n",
       "    <tr>\n",
       "      <th>3</th>\n",
       "      <td>3</td>\n",
       "      <td>entao boa tarde todos todas comprimento secret...</td>\n",
       "      <td>Desenvolvimento Econômico e Trabalho</td>\n",
       "    </tr>\n",
       "    <tr>\n",
       "      <th>4</th>\n",
       "      <td>4</td>\n",
       "      <td>obrigada agradeco oportunidade faco parte rede...</td>\n",
       "      <td>Zeladoria Urbana e melhorias de bairro</td>\n",
       "    </tr>\n",
       "  </tbody>\n",
       "</table>\n",
       "</div>"
      ],
      "text/plain": [
       "   id                                            corpora  \\\n",
       "0   0  boa tarde todas todos nome francisco apelido c...   \n",
       "1   1  oi mario sergio bortolotto favor responde enco...   \n",
       "2   2  entao boa tarde todos todas comprimento secret...   \n",
       "3   3  entao boa tarde todos todas comprimento secret...   \n",
       "4   4  obrigada agradeco oportunidade faco parte rede...   \n",
       "\n",
       "                                     tema  \n",
       "0                           Meio Ambiente  \n",
       "1               Urbanismo e Licenciamento  \n",
       "2  Zeladoria Urbana e melhorias de bairro  \n",
       "3    Desenvolvimento Econômico e Trabalho  \n",
       "4  Zeladoria Urbana e melhorias de bairro  "
      ]
     },
     "execution_count": 18,
     "metadata": {},
     "output_type": "execute_result"
    }
   ],
   "source": [
    "df.head()"
   ]
  },
  {
   "cell_type": "code",
   "execution_count": null,
   "metadata": {},
   "outputs": [],
   "source": []
  },
  {
   "cell_type": "code",
   "execution_count": 19,
   "metadata": {},
   "outputs": [
    {
     "name": "stderr",
     "output_type": "stream",
     "text": [
      "[nltk_data] Downloading package rslp to /home/h-pgy/nltk_data...\n",
      "[nltk_data]   Package rslp is already up-to-date!\n"
     ]
    },
    {
     "data": {
      "text/plain": [
       "True"
      ]
     },
     "execution_count": 19,
     "metadata": {},
     "output_type": "execute_result"
    }
   ],
   "source": [
    "import nltk\n",
    "from nltk.tokenize import word_tokenize\n",
    "from nltk.stem import RSLPStemmer\n",
    "\n",
    "# Baixar pacotes necessários do NLTK\n",
    "nltk.download(\"rslp\")"
   ]
  },
  {
   "cell_type": "code",
   "execution_count": 20,
   "metadata": {},
   "outputs": [],
   "source": [
    "# Criar Stemmer para português\n",
    "stemmer = RSLPStemmer()\n",
    "\n",
    "def stem_text(text):\n",
    "    words = word_tokenize(text.lower())  # Tokeniza e converte para minúsculas\n",
    "    return \" \".join([stemmer.stem(word) for word in words if word.isalnum()])"
   ]
  },
  {
   "cell_type": "code",
   "execution_count": 21,
   "metadata": {},
   "outputs": [],
   "source": [
    "df['corpora'] = df['corpora'].apply(stem_text)"
   ]
  },
  {
   "cell_type": "code",
   "execution_count": 22,
   "metadata": {},
   "outputs": [
    {
     "data": {
      "text/plain": [
       "'boa noit tod gost paraben prefeit trabalh realiz plan met paraben pesso vere dou arnald far sa subprefeit tiag tod outr lid particip dess debat gost faz algum contribuico are saud gost indic program saud preven cad subprefeit jabaqu atend tod ub serv odontolog instal seil especi jabaqu part assistenc soc instal espac atend populaca vulnera situaca rua galpa pud aprend pesso aument capac restaurant bom prat atend pesso regia construca ceu jabaqu dev jabaqu ter mil habit implantaca escol integr tod escol municip instalaca curs profissionaliz red municip instalaca fab lab livr paul tod escol capacitaca geraca rend pesso gost indic cult criaca pont cult cad bairr jabaqu criaca centr memor jabaqu questa esport instalaca prac esport radic jabaqu instituica jog municip idos crianc mulh part mei ambi liberaca cooper recicl aument planti arv instalaca educaca ambient escol invest melh limp correg instal aument numer parqu line descentral tod secret subprefeit instalaca lamp led tod post publ regularizaca fundi tod morad jabaqu zer numer habitaca jabaqu aument efet guard civil metropolit instalaca acessibil tod equip publ jabaqu desenvolv econom empreendedor tod jabaqu ajud comerci regia'"
      ]
     },
     "execution_count": 22,
     "metadata": {},
     "output_type": "execute_result"
    }
   ],
   "source": [
    "sample_series(df['corpora'])"
   ]
  },
  {
   "cell_type": "markdown",
   "metadata": {},
   "source": [
    "precisa dropar as duplicadas - está confundindo o modelo uma mesma frase ter mais de uma classificacao"
   ]
  },
  {
   "cell_type": "code",
   "execution_count": 23,
   "metadata": {},
   "outputs": [],
   "source": [
    "df = df.drop_duplicates('corpora')"
   ]
  },
  {
   "cell_type": "code",
   "execution_count": 24,
   "metadata": {},
   "outputs": [],
   "source": [
    "vectorizer = CountVectorizer()"
   ]
  },
  {
   "cell_type": "code",
   "execution_count": 25,
   "metadata": {},
   "outputs": [],
   "source": [
    "bow_matrix= vectorizer.fit_transform(df['corpora'])"
   ]
  },
  {
   "cell_type": "code",
   "execution_count": 26,
   "metadata": {},
   "outputs": [],
   "source": [
    "bow_df = pd.DataFrame(bow_matrix.toarray(), columns=vectorizer.get_feature_names_out())"
   ]
  },
  {
   "cell_type": "code",
   "execution_count": 27,
   "metadata": {},
   "outputs": [
    {
     "data": {
      "text/html": [
       "<div>\n",
       "<style scoped>\n",
       "    .dataframe tbody tr th:only-of-type {\n",
       "        vertical-align: middle;\n",
       "    }\n",
       "\n",
       "    .dataframe tbody tr th {\n",
       "        vertical-align: top;\n",
       "    }\n",
       "\n",
       "    .dataframe thead th {\n",
       "        text-align: right;\n",
       "    }\n",
       "</style>\n",
       "<table border=\"1\" class=\"dataframe\">\n",
       "  <thead>\n",
       "    <tr style=\"text-align: right;\">\n",
       "      <th></th>\n",
       "      <th>1000km</th>\n",
       "      <th>100km</th>\n",
       "      <th>10ampli</th>\n",
       "      <th>10h</th>\n",
       "      <th>10km</th>\n",
       "      <th>119c10201210</th>\n",
       "      <th>11o</th>\n",
       "      <th>12e3</th>\n",
       "      <th>12milho</th>\n",
       "      <th>12o</th>\n",
       "      <th>...</th>\n",
       "      <th>zhang</th>\n",
       "      <th>zild</th>\n",
       "      <th>zitu</th>\n",
       "      <th>zn</th>\n",
       "      <th>zogb</th>\n",
       "      <th>zom</th>\n",
       "      <th>zon</th>\n",
       "      <th>zone</th>\n",
       "      <th>zr1</th>\n",
       "      <th>zum</th>\n",
       "    </tr>\n",
       "  </thead>\n",
       "  <tbody>\n",
       "    <tr>\n",
       "      <th>0</th>\n",
       "      <td>0</td>\n",
       "      <td>0</td>\n",
       "      <td>0</td>\n",
       "      <td>0</td>\n",
       "      <td>0</td>\n",
       "      <td>0</td>\n",
       "      <td>0</td>\n",
       "      <td>0</td>\n",
       "      <td>0</td>\n",
       "      <td>0</td>\n",
       "      <td>...</td>\n",
       "      <td>0</td>\n",
       "      <td>0</td>\n",
       "      <td>0</td>\n",
       "      <td>0</td>\n",
       "      <td>0</td>\n",
       "      <td>0</td>\n",
       "      <td>0</td>\n",
       "      <td>0</td>\n",
       "      <td>0</td>\n",
       "      <td>0</td>\n",
       "    </tr>\n",
       "    <tr>\n",
       "      <th>1</th>\n",
       "      <td>0</td>\n",
       "      <td>0</td>\n",
       "      <td>0</td>\n",
       "      <td>0</td>\n",
       "      <td>0</td>\n",
       "      <td>0</td>\n",
       "      <td>0</td>\n",
       "      <td>0</td>\n",
       "      <td>0</td>\n",
       "      <td>0</td>\n",
       "      <td>...</td>\n",
       "      <td>0</td>\n",
       "      <td>0</td>\n",
       "      <td>0</td>\n",
       "      <td>0</td>\n",
       "      <td>0</td>\n",
       "      <td>0</td>\n",
       "      <td>0</td>\n",
       "      <td>0</td>\n",
       "      <td>0</td>\n",
       "      <td>0</td>\n",
       "    </tr>\n",
       "    <tr>\n",
       "      <th>2</th>\n",
       "      <td>0</td>\n",
       "      <td>0</td>\n",
       "      <td>0</td>\n",
       "      <td>0</td>\n",
       "      <td>0</td>\n",
       "      <td>0</td>\n",
       "      <td>0</td>\n",
       "      <td>0</td>\n",
       "      <td>0</td>\n",
       "      <td>0</td>\n",
       "      <td>...</td>\n",
       "      <td>0</td>\n",
       "      <td>0</td>\n",
       "      <td>0</td>\n",
       "      <td>0</td>\n",
       "      <td>0</td>\n",
       "      <td>0</td>\n",
       "      <td>0</td>\n",
       "      <td>0</td>\n",
       "      <td>0</td>\n",
       "      <td>0</td>\n",
       "    </tr>\n",
       "    <tr>\n",
       "      <th>3</th>\n",
       "      <td>0</td>\n",
       "      <td>0</td>\n",
       "      <td>0</td>\n",
       "      <td>0</td>\n",
       "      <td>0</td>\n",
       "      <td>0</td>\n",
       "      <td>0</td>\n",
       "      <td>0</td>\n",
       "      <td>0</td>\n",
       "      <td>0</td>\n",
       "      <td>...</td>\n",
       "      <td>0</td>\n",
       "      <td>0</td>\n",
       "      <td>0</td>\n",
       "      <td>0</td>\n",
       "      <td>0</td>\n",
       "      <td>0</td>\n",
       "      <td>0</td>\n",
       "      <td>0</td>\n",
       "      <td>0</td>\n",
       "      <td>0</td>\n",
       "    </tr>\n",
       "    <tr>\n",
       "      <th>4</th>\n",
       "      <td>0</td>\n",
       "      <td>0</td>\n",
       "      <td>0</td>\n",
       "      <td>0</td>\n",
       "      <td>0</td>\n",
       "      <td>0</td>\n",
       "      <td>0</td>\n",
       "      <td>0</td>\n",
       "      <td>0</td>\n",
       "      <td>0</td>\n",
       "      <td>...</td>\n",
       "      <td>0</td>\n",
       "      <td>0</td>\n",
       "      <td>0</td>\n",
       "      <td>0</td>\n",
       "      <td>0</td>\n",
       "      <td>0</td>\n",
       "      <td>0</td>\n",
       "      <td>0</td>\n",
       "      <td>0</td>\n",
       "      <td>0</td>\n",
       "    </tr>\n",
       "  </tbody>\n",
       "</table>\n",
       "<p>5 rows × 8647 columns</p>\n",
       "</div>"
      ],
      "text/plain": [
       "   1000km  100km  10ampli  10h  10km  119c10201210  11o  12e3  12milho  12o  \\\n",
       "0       0      0        0    0     0             0    0     0        0    0   \n",
       "1       0      0        0    0     0             0    0     0        0    0   \n",
       "2       0      0        0    0     0             0    0     0        0    0   \n",
       "3       0      0        0    0     0             0    0     0        0    0   \n",
       "4       0      0        0    0     0             0    0     0        0    0   \n",
       "\n",
       "   ...  zhang  zild  zitu  zn  zogb  zom  zon  zone  zr1  zum  \n",
       "0  ...      0     0     0   0     0    0    0     0    0    0  \n",
       "1  ...      0     0     0   0     0    0    0     0    0    0  \n",
       "2  ...      0     0     0   0     0    0    0     0    0    0  \n",
       "3  ...      0     0     0   0     0    0    0     0    0    0  \n",
       "4  ...      0     0     0   0     0    0    0     0    0    0  \n",
       "\n",
       "[5 rows x 8647 columns]"
      ]
     },
     "execution_count": 27,
     "metadata": {},
     "output_type": "execute_result"
    }
   ],
   "source": [
    "bow_df.head()"
   ]
  },
  {
   "cell_type": "code",
   "execution_count": 28,
   "metadata": {},
   "outputs": [
    {
     "data": {
      "text/plain": [
       "(2212, 3)"
      ]
     },
     "execution_count": 28,
     "metadata": {},
     "output_type": "execute_result"
    }
   ],
   "source": [
    "df.shape"
   ]
  },
  {
   "cell_type": "code",
   "execution_count": 29,
   "metadata": {},
   "outputs": [
    {
     "data": {
      "text/plain": [
       "(2212, 8647)"
      ]
     },
     "execution_count": 29,
     "metadata": {},
     "output_type": "execute_result"
    }
   ],
   "source": [
    "bow_df.shape"
   ]
  },
  {
   "cell_type": "code",
   "execution_count": 30,
   "metadata": {},
   "outputs": [],
   "source": [
    "bow_df['id'] = df['id']"
   ]
  },
  {
   "cell_type": "code",
   "execution_count": 31,
   "metadata": {},
   "outputs": [],
   "source": [
    "bow_df['y'] = df['tema']"
   ]
  },
  {
   "cell_type": "code",
   "execution_count": 32,
   "metadata": {},
   "outputs": [
    {
     "data": {
      "text/html": [
       "<div>\n",
       "<style scoped>\n",
       "    .dataframe tbody tr th:only-of-type {\n",
       "        vertical-align: middle;\n",
       "    }\n",
       "\n",
       "    .dataframe tbody tr th {\n",
       "        vertical-align: top;\n",
       "    }\n",
       "\n",
       "    .dataframe thead th {\n",
       "        text-align: right;\n",
       "    }\n",
       "</style>\n",
       "<table border=\"1\" class=\"dataframe\">\n",
       "  <thead>\n",
       "    <tr style=\"text-align: right;\">\n",
       "      <th></th>\n",
       "      <th>1000km</th>\n",
       "      <th>100km</th>\n",
       "      <th>10ampli</th>\n",
       "      <th>10h</th>\n",
       "      <th>10km</th>\n",
       "      <th>119c10201210</th>\n",
       "      <th>11o</th>\n",
       "      <th>12e3</th>\n",
       "      <th>12milho</th>\n",
       "      <th>12o</th>\n",
       "      <th>...</th>\n",
       "      <th>zild</th>\n",
       "      <th>zitu</th>\n",
       "      <th>zn</th>\n",
       "      <th>zogb</th>\n",
       "      <th>zom</th>\n",
       "      <th>zon</th>\n",
       "      <th>zone</th>\n",
       "      <th>zr1</th>\n",
       "      <th>zum</th>\n",
       "      <th>y</th>\n",
       "    </tr>\n",
       "  </thead>\n",
       "  <tbody>\n",
       "    <tr>\n",
       "      <th>0</th>\n",
       "      <td>0</td>\n",
       "      <td>0</td>\n",
       "      <td>0</td>\n",
       "      <td>0</td>\n",
       "      <td>0</td>\n",
       "      <td>0</td>\n",
       "      <td>0</td>\n",
       "      <td>0</td>\n",
       "      <td>0</td>\n",
       "      <td>0</td>\n",
       "      <td>...</td>\n",
       "      <td>0</td>\n",
       "      <td>0</td>\n",
       "      <td>0</td>\n",
       "      <td>0</td>\n",
       "      <td>0</td>\n",
       "      <td>0</td>\n",
       "      <td>0</td>\n",
       "      <td>0</td>\n",
       "      <td>0</td>\n",
       "      <td>Meio Ambiente</td>\n",
       "    </tr>\n",
       "    <tr>\n",
       "      <th>1</th>\n",
       "      <td>0</td>\n",
       "      <td>0</td>\n",
       "      <td>0</td>\n",
       "      <td>0</td>\n",
       "      <td>0</td>\n",
       "      <td>0</td>\n",
       "      <td>0</td>\n",
       "      <td>0</td>\n",
       "      <td>0</td>\n",
       "      <td>0</td>\n",
       "      <td>...</td>\n",
       "      <td>0</td>\n",
       "      <td>0</td>\n",
       "      <td>0</td>\n",
       "      <td>0</td>\n",
       "      <td>0</td>\n",
       "      <td>0</td>\n",
       "      <td>0</td>\n",
       "      <td>0</td>\n",
       "      <td>0</td>\n",
       "      <td>Urbanismo e Licenciamento</td>\n",
       "    </tr>\n",
       "    <tr>\n",
       "      <th>2</th>\n",
       "      <td>0</td>\n",
       "      <td>0</td>\n",
       "      <td>0</td>\n",
       "      <td>0</td>\n",
       "      <td>0</td>\n",
       "      <td>0</td>\n",
       "      <td>0</td>\n",
       "      <td>0</td>\n",
       "      <td>0</td>\n",
       "      <td>0</td>\n",
       "      <td>...</td>\n",
       "      <td>0</td>\n",
       "      <td>0</td>\n",
       "      <td>0</td>\n",
       "      <td>0</td>\n",
       "      <td>0</td>\n",
       "      <td>0</td>\n",
       "      <td>0</td>\n",
       "      <td>0</td>\n",
       "      <td>0</td>\n",
       "      <td>Zeladoria Urbana e melhorias de bairro</td>\n",
       "    </tr>\n",
       "    <tr>\n",
       "      <th>3</th>\n",
       "      <td>0</td>\n",
       "      <td>0</td>\n",
       "      <td>0</td>\n",
       "      <td>0</td>\n",
       "      <td>0</td>\n",
       "      <td>0</td>\n",
       "      <td>0</td>\n",
       "      <td>0</td>\n",
       "      <td>0</td>\n",
       "      <td>0</td>\n",
       "      <td>...</td>\n",
       "      <td>0</td>\n",
       "      <td>0</td>\n",
       "      <td>0</td>\n",
       "      <td>0</td>\n",
       "      <td>0</td>\n",
       "      <td>0</td>\n",
       "      <td>0</td>\n",
       "      <td>0</td>\n",
       "      <td>0</td>\n",
       "      <td>NaN</td>\n",
       "    </tr>\n",
       "    <tr>\n",
       "      <th>4</th>\n",
       "      <td>0</td>\n",
       "      <td>0</td>\n",
       "      <td>0</td>\n",
       "      <td>0</td>\n",
       "      <td>0</td>\n",
       "      <td>0</td>\n",
       "      <td>0</td>\n",
       "      <td>0</td>\n",
       "      <td>0</td>\n",
       "      <td>0</td>\n",
       "      <td>...</td>\n",
       "      <td>0</td>\n",
       "      <td>0</td>\n",
       "      <td>0</td>\n",
       "      <td>0</td>\n",
       "      <td>0</td>\n",
       "      <td>0</td>\n",
       "      <td>0</td>\n",
       "      <td>0</td>\n",
       "      <td>0</td>\n",
       "      <td>Zeladoria Urbana e melhorias de bairro</td>\n",
       "    </tr>\n",
       "  </tbody>\n",
       "</table>\n",
       "<p>5 rows × 8648 columns</p>\n",
       "</div>"
      ],
      "text/plain": [
       "   1000km  100km  10ampli  10h  10km  119c10201210  11o  12e3  12milho  12o  \\\n",
       "0       0      0        0    0     0             0    0     0        0    0   \n",
       "1       0      0        0    0     0             0    0     0        0    0   \n",
       "2       0      0        0    0     0             0    0     0        0    0   \n",
       "3       0      0        0    0     0             0    0     0        0    0   \n",
       "4       0      0        0    0     0             0    0     0        0    0   \n",
       "\n",
       "   ...  zild  zitu  zn  zogb  zom  zon  zone  zr1  zum  \\\n",
       "0  ...     0     0   0     0    0    0     0    0    0   \n",
       "1  ...     0     0   0     0    0    0     0    0    0   \n",
       "2  ...     0     0   0     0    0    0     0    0    0   \n",
       "3  ...     0     0   0     0    0    0     0    0    0   \n",
       "4  ...     0     0   0     0    0    0     0    0    0   \n",
       "\n",
       "                                        y  \n",
       "0                           Meio Ambiente  \n",
       "1               Urbanismo e Licenciamento  \n",
       "2  Zeladoria Urbana e melhorias de bairro  \n",
       "3                                     NaN  \n",
       "4  Zeladoria Urbana e melhorias de bairro  \n",
       "\n",
       "[5 rows x 8648 columns]"
      ]
     },
     "execution_count": 32,
     "metadata": {},
     "output_type": "execute_result"
    }
   ],
   "source": [
    "bow_df.head()"
   ]
  },
  {
   "cell_type": "code",
   "execution_count": 33,
   "metadata": {},
   "outputs": [
    {
     "data": {
      "text/plain": [
       "'../data/bag_of_words_df.parquet'"
      ]
     },
     "execution_count": 33,
     "metadata": {},
     "output_type": "execute_result"
    }
   ],
   "source": [
    "save_df_parquet(bow_df, 'bag_of_words_df.parquet')"
   ]
  }
 ],
 "metadata": {
  "kernelspec": {
   "display_name": "venv",
   "language": "python",
   "name": "python3"
  },
  "language_info": {
   "codemirror_mode": {
    "name": "ipython",
    "version": 3
   },
   "file_extension": ".py",
   "mimetype": "text/x-python",
   "name": "python",
   "nbconvert_exporter": "python",
   "pygments_lexer": "ipython3",
   "version": "3.13.1"
  }
 },
 "nbformat": 4,
 "nbformat_minor": 2
}
