{
 "cells": [
  {
   "cell_type": "code",
   "execution_count": 1,
   "metadata": {},
   "outputs": [],
   "source": [
    "import pandas as pd \n",
    "from utils import read_df, save_df, sample_series\n",
    "import ast\n",
    "import nltk"
   ]
  },
  {
   "cell_type": "code",
   "execution_count": 2,
   "metadata": {},
   "outputs": [],
   "source": [
    "df: pd.DataFrame = read_df('dados_tokenizados.csv')"
   ]
  },
  {
   "cell_type": "code",
   "execution_count": 3,
   "metadata": {},
   "outputs": [
    {
     "data": {
      "text/html": [
       "<div>\n",
       "<style scoped>\n",
       "    .dataframe tbody tr th:only-of-type {\n",
       "        vertical-align: middle;\n",
       "    }\n",
       "\n",
       "    .dataframe tbody tr th {\n",
       "        vertical-align: top;\n",
       "    }\n",
       "\n",
       "    .dataframe thead th {\n",
       "        text-align: right;\n",
       "    }\n",
       "</style>\n",
       "<table border=\"1\" class=\"dataframe\">\n",
       "  <thead>\n",
       "    <tr style=\"text-align: right;\">\n",
       "      <th></th>\n",
       "      <th>id</th>\n",
       "      <th>canal</th>\n",
       "      <th>texto_original</th>\n",
       "      <th>temas</th>\n",
       "      <th>texto_limpo</th>\n",
       "      <th>tokens</th>\n",
       "      <th>tokens_clean</th>\n",
       "    </tr>\n",
       "  </thead>\n",
       "  <tbody>\n",
       "    <tr>\n",
       "      <th>2275</th>\n",
       "      <td>3071</td>\n",
       "      <td>Audiência Regional - Pirituba/Jaraguá</td>\n",
       "      <td>Boa noite a todos e a todas. Eu agradeço pela ...</td>\n",
       "      <td>[]</td>\n",
       "      <td>boa noite a todos e a todas. eu agradeço pela ...</td>\n",
       "      <td>['boa', 'noite', 'a', 'todos', 'e', 'a', 'toda...</td>\n",
       "      <td>['boa', 'noite', 'todos', 'todas', 'agradeco',...</td>\n",
       "    </tr>\n",
       "    <tr>\n",
       "      <th>630</th>\n",
       "      <td>673</td>\n",
       "      <td>Participe+</td>\n",
       "      <td>Meta 32 - Iniciativa A - Manter - Peço atenção...</td>\n",
       "      <td>['Zeladoria Urbana e melhorias de bairro']</td>\n",
       "      <td>meta 32 - iniciativa a - manter - peço atenção...</td>\n",
       "      <td>['meta', '32', '-', 'iniciativa', 'a', '-', 'm...</td>\n",
       "      <td>['manter', 'peco', 'atencao', 'rua', 'kenkit',...</td>\n",
       "    </tr>\n",
       "    <tr>\n",
       "      <th>930</th>\n",
       "      <td>1362</td>\n",
       "      <td>Participe+</td>\n",
       "      <td>Meta 39 - Iniciativa C - Revisar - Todas as vi...</td>\n",
       "      <td>['Transportes e Mobilidade']</td>\n",
       "      <td>meta 39 - iniciativa c - revisar - todas as vi...</td>\n",
       "      <td>['meta', '39', '-', 'iniciativa', 'c', '-', 'r...</td>\n",
       "      <td>['c', 'revisar', 'todas', 'vias', 'puderem', '...</td>\n",
       "    </tr>\n",
       "  </tbody>\n",
       "</table>\n",
       "</div>"
      ],
      "text/plain": [
       "        id                                  canal  \\\n",
       "2275  3071  Audiência Regional - Pirituba/Jaraguá   \n",
       "630    673                             Participe+   \n",
       "930   1362                             Participe+   \n",
       "\n",
       "                                         texto_original  \\\n",
       "2275  Boa noite a todos e a todas. Eu agradeço pela ...   \n",
       "630   Meta 32 - Iniciativa A - Manter - Peço atenção...   \n",
       "930   Meta 39 - Iniciativa C - Revisar - Todas as vi...   \n",
       "\n",
       "                                           temas  \\\n",
       "2275                                          []   \n",
       "630   ['Zeladoria Urbana e melhorias de bairro']   \n",
       "930                 ['Transportes e Mobilidade']   \n",
       "\n",
       "                                            texto_limpo  \\\n",
       "2275  boa noite a todos e a todas. eu agradeço pela ...   \n",
       "630   meta 32 - iniciativa a - manter - peço atenção...   \n",
       "930   meta 39 - iniciativa c - revisar - todas as vi...   \n",
       "\n",
       "                                                 tokens  \\\n",
       "2275  ['boa', 'noite', 'a', 'todos', 'e', 'a', 'toda...   \n",
       "630   ['meta', '32', '-', 'iniciativa', 'a', '-', 'm...   \n",
       "930   ['meta', '39', '-', 'iniciativa', 'c', '-', 'r...   \n",
       "\n",
       "                                           tokens_clean  \n",
       "2275  ['boa', 'noite', 'todos', 'todas', 'agradeco',...  \n",
       "630   ['manter', 'peco', 'atencao', 'rua', 'kenkit',...  \n",
       "930   ['c', 'revisar', 'todas', 'vias', 'puderem', '...  "
      ]
     },
     "execution_count": 3,
     "metadata": {},
     "output_type": "execute_result"
    }
   ],
   "source": [
    "df.sample(3)"
   ]
  },
  {
   "cell_type": "markdown",
   "metadata": {},
   "source": [
    "Para construir a bag of words vou precisar apenas dos tokens e da classificacao.\n",
    "\n",
    "Terei que fazer o explode na classificação - pois um mesmo texto pode ter mais de um tema"
   ]
  },
  {
   "cell_type": "code",
   "execution_count": 4,
   "metadata": {},
   "outputs": [],
   "source": [
    "df = df[['tokens_clean', 'temas']]"
   ]
  },
  {
   "cell_type": "code",
   "execution_count": 5,
   "metadata": {},
   "outputs": [
    {
     "data": {
      "text/plain": [
       "tokens_clean    object\n",
       "temas           object\n",
       "dtype: object"
      ]
     },
     "execution_count": 5,
     "metadata": {},
     "output_type": "execute_result"
    }
   ],
   "source": [
    "df.dtypes"
   ]
  },
  {
   "cell_type": "code",
   "execution_count": 6,
   "metadata": {},
   "outputs": [],
   "source": [
    "def parse_lst_column(lst_str)->list[str]:\n",
    "\n",
    "    return ast.literal_eval(lst_str)\n",
    "    "
   ]
  },
  {
   "cell_type": "code",
   "execution_count": 7,
   "metadata": {},
   "outputs": [],
   "source": [
    "df['temas'] = df['temas'].apply(parse_lst_column)\n",
    "df['tokens_clean'] = df['tokens_clean'].apply(parse_lst_column)"
   ]
  },
  {
   "cell_type": "code",
   "execution_count": 8,
   "metadata": {},
   "outputs": [
    {
     "data": {
      "text/html": [
       "<div>\n",
       "<style scoped>\n",
       "    .dataframe tbody tr th:only-of-type {\n",
       "        vertical-align: middle;\n",
       "    }\n",
       "\n",
       "    .dataframe tbody tr th {\n",
       "        vertical-align: top;\n",
       "    }\n",
       "\n",
       "    .dataframe thead th {\n",
       "        text-align: right;\n",
       "    }\n",
       "</style>\n",
       "<table border=\"1\" class=\"dataframe\">\n",
       "  <thead>\n",
       "    <tr style=\"text-align: right;\">\n",
       "      <th></th>\n",
       "      <th>tokens_clean</th>\n",
       "      <th>temas</th>\n",
       "    </tr>\n",
       "  </thead>\n",
       "  <tbody>\n",
       "    <tr>\n",
       "      <th>1255</th>\n",
       "      <td>[revisar, acguarapiranga, agua, beber, ter, ze...</td>\n",
       "      <td>[Meio Ambiente]</td>\n",
       "    </tr>\n",
       "    <tr>\n",
       "      <th>2257</th>\n",
       "      <td>[boa, noite, todos, todas, pessoas, prefeitura...</td>\n",
       "      <td>[]</td>\n",
       "    </tr>\n",
       "    <tr>\n",
       "      <th>424</th>\n",
       "      <td>[boa, noite, todos, gostaria, agradecer, todos...</td>\n",
       "      <td>[Esporte e Lazer]</td>\n",
       "    </tr>\n",
       "  </tbody>\n",
       "</table>\n",
       "</div>"
      ],
      "text/plain": [
       "                                           tokens_clean              temas\n",
       "1255  [revisar, acguarapiranga, agua, beber, ter, ze...    [Meio Ambiente]\n",
       "2257  [boa, noite, todos, todas, pessoas, prefeitura...                 []\n",
       "424   [boa, noite, todos, gostaria, agradecer, todos...  [Esporte e Lazer]"
      ]
     },
     "execution_count": 8,
     "metadata": {},
     "output_type": "execute_result"
    }
   ],
   "source": [
    "df.sample(3)"
   ]
  },
  {
   "cell_type": "code",
   "execution_count": 9,
   "metadata": {},
   "outputs": [
    {
     "data": {
      "text/html": [
       "<div>\n",
       "<style scoped>\n",
       "    .dataframe tbody tr th:only-of-type {\n",
       "        vertical-align: middle;\n",
       "    }\n",
       "\n",
       "    .dataframe tbody tr th {\n",
       "        vertical-align: top;\n",
       "    }\n",
       "\n",
       "    .dataframe thead th {\n",
       "        text-align: right;\n",
       "    }\n",
       "</style>\n",
       "<table border=\"1\" class=\"dataframe\">\n",
       "  <thead>\n",
       "    <tr style=\"text-align: right;\">\n",
       "      <th></th>\n",
       "      <th>tokens_clean</th>\n",
       "      <th>tema</th>\n",
       "    </tr>\n",
       "  </thead>\n",
       "  <tbody>\n",
       "    <tr>\n",
       "      <th>1698</th>\n",
       "      <td>[pontos, geracao, trabalho, renda, criar, prog...</td>\n",
       "      <td>Desenvolvimento Econômico e Trabalho</td>\n",
       "    </tr>\n",
       "    <tr>\n",
       "      <th>534</th>\n",
       "      <td>[boa, noite, tudo, bem, ouvem, espero, sim, be...</td>\n",
       "      <td>Habitação</td>\n",
       "    </tr>\n",
       "    <tr>\n",
       "      <th>2253</th>\n",
       "      <td>[boa, noite, todos, quero, manifestar, satisfa...</td>\n",
       "      <td>Inovação e Tecnologia</td>\n",
       "    </tr>\n",
       "  </tbody>\n",
       "</table>\n",
       "</div>"
      ],
      "text/plain": [
       "                                           tokens_clean  \\\n",
       "1698  [pontos, geracao, trabalho, renda, criar, prog...   \n",
       "534   [boa, noite, tudo, bem, ouvem, espero, sim, be...   \n",
       "2253  [boa, noite, todos, quero, manifestar, satisfa...   \n",
       "\n",
       "                                      tema  \n",
       "1698  Desenvolvimento Econômico e Trabalho  \n",
       "534                              Habitação  \n",
       "2253                 Inovação e Tecnologia  "
      ]
     },
     "execution_count": 9,
     "metadata": {},
     "output_type": "execute_result"
    }
   ],
   "source": [
    "df = df.explode('temas')\n",
    "df.rename({'temas' : 'tema'}, axis=1, inplace=True)\n",
    "\n",
    "df.sample(3)"
   ]
  },
  {
   "cell_type": "code",
   "execution_count": 10,
   "metadata": {},
   "outputs": [],
   "source": [
    "df.reset_index(drop=True, inplace=True)"
   ]
  },
  {
   "cell_type": "code",
   "execution_count": 11,
   "metadata": {},
   "outputs": [],
   "source": [
    "df['id'] = df.index"
   ]
  },
  {
   "cell_type": "code",
   "execution_count": 12,
   "metadata": {},
   "outputs": [
    {
     "data": {
      "text/html": [
       "<div>\n",
       "<style scoped>\n",
       "    .dataframe tbody tr th:only-of-type {\n",
       "        vertical-align: middle;\n",
       "    }\n",
       "\n",
       "    .dataframe tbody tr th {\n",
       "        vertical-align: top;\n",
       "    }\n",
       "\n",
       "    .dataframe thead th {\n",
       "        text-align: right;\n",
       "    }\n",
       "</style>\n",
       "<table border=\"1\" class=\"dataframe\">\n",
       "  <thead>\n",
       "    <tr style=\"text-align: right;\">\n",
       "      <th></th>\n",
       "      <th>tokens_clean</th>\n",
       "      <th>tema</th>\n",
       "      <th>id</th>\n",
       "    </tr>\n",
       "  </thead>\n",
       "  <tbody>\n",
       "    <tr>\n",
       "      <th>0</th>\n",
       "      <td>[boa, tarde, todas, todos, nome, francisco, ap...</td>\n",
       "      <td>Meio Ambiente</td>\n",
       "      <td>0</td>\n",
       "    </tr>\n",
       "    <tr>\n",
       "      <th>1</th>\n",
       "      <td>[oi, mario, sergio, bortolotto, favor, respond...</td>\n",
       "      <td>Urbanismo e Licenciamento</td>\n",
       "      <td>1</td>\n",
       "    </tr>\n",
       "    <tr>\n",
       "      <th>2</th>\n",
       "      <td>[entao, boa, tarde, todos, todas, comprimento,...</td>\n",
       "      <td>Zeladoria Urbana e melhorias de bairro</td>\n",
       "      <td>2</td>\n",
       "    </tr>\n",
       "    <tr>\n",
       "      <th>3</th>\n",
       "      <td>[entao, boa, tarde, todos, todas, comprimento,...</td>\n",
       "      <td>Desenvolvimento Econômico e Trabalho</td>\n",
       "      <td>3</td>\n",
       "    </tr>\n",
       "    <tr>\n",
       "      <th>4</th>\n",
       "      <td>[obrigada, agradeco, oportunidade, faco, parte...</td>\n",
       "      <td>Zeladoria Urbana e melhorias de bairro</td>\n",
       "      <td>4</td>\n",
       "    </tr>\n",
       "  </tbody>\n",
       "</table>\n",
       "</div>"
      ],
      "text/plain": [
       "                                        tokens_clean  \\\n",
       "0  [boa, tarde, todas, todos, nome, francisco, ap...   \n",
       "1  [oi, mario, sergio, bortolotto, favor, respond...   \n",
       "2  [entao, boa, tarde, todos, todas, comprimento,...   \n",
       "3  [entao, boa, tarde, todos, todas, comprimento,...   \n",
       "4  [obrigada, agradeco, oportunidade, faco, parte...   \n",
       "\n",
       "                                     tema  id  \n",
       "0                           Meio Ambiente   0  \n",
       "1               Urbanismo e Licenciamento   1  \n",
       "2  Zeladoria Urbana e melhorias de bairro   2  \n",
       "3    Desenvolvimento Econômico e Trabalho   3  \n",
       "4  Zeladoria Urbana e melhorias de bairro   4  "
      ]
     },
     "execution_count": 12,
     "metadata": {},
     "output_type": "execute_result"
    }
   ],
   "source": [
    "df.head()"
   ]
  },
  {
   "cell_type": "code",
   "execution_count": 13,
   "metadata": {},
   "outputs": [],
   "source": [
    "from sklearn.feature_extraction.text import CountVectorizer"
   ]
  },
  {
   "cell_type": "code",
   "execution_count": 14,
   "metadata": {},
   "outputs": [],
   "source": [
    "df['corpora'] = df['tokens_clean'].apply(lambda x: ' '.join(x))"
   ]
  },
  {
   "cell_type": "code",
   "execution_count": 15,
   "metadata": {},
   "outputs": [
    {
     "data": {
      "text/html": [
       "<div>\n",
       "<style scoped>\n",
       "    .dataframe tbody tr th:only-of-type {\n",
       "        vertical-align: middle;\n",
       "    }\n",
       "\n",
       "    .dataframe tbody tr th {\n",
       "        vertical-align: top;\n",
       "    }\n",
       "\n",
       "    .dataframe thead th {\n",
       "        text-align: right;\n",
       "    }\n",
       "</style>\n",
       "<table border=\"1\" class=\"dataframe\">\n",
       "  <thead>\n",
       "    <tr style=\"text-align: right;\">\n",
       "      <th></th>\n",
       "      <th>tokens_clean</th>\n",
       "      <th>tema</th>\n",
       "      <th>id</th>\n",
       "      <th>corpora</th>\n",
       "    </tr>\n",
       "  </thead>\n",
       "  <tbody>\n",
       "    <tr>\n",
       "      <th>0</th>\n",
       "      <td>[boa, tarde, todas, todos, nome, francisco, ap...</td>\n",
       "      <td>Meio Ambiente</td>\n",
       "      <td>0</td>\n",
       "      <td>boa tarde todas todos nome francisco apelido c...</td>\n",
       "    </tr>\n",
       "    <tr>\n",
       "      <th>1</th>\n",
       "      <td>[oi, mario, sergio, bortolotto, favor, respond...</td>\n",
       "      <td>Urbanismo e Licenciamento</td>\n",
       "      <td>1</td>\n",
       "      <td>oi mario sergio bortolotto favor responde enco...</td>\n",
       "    </tr>\n",
       "    <tr>\n",
       "      <th>2</th>\n",
       "      <td>[entao, boa, tarde, todos, todas, comprimento,...</td>\n",
       "      <td>Zeladoria Urbana e melhorias de bairro</td>\n",
       "      <td>2</td>\n",
       "      <td>entao boa tarde todos todas comprimento secret...</td>\n",
       "    </tr>\n",
       "    <tr>\n",
       "      <th>3</th>\n",
       "      <td>[entao, boa, tarde, todos, todas, comprimento,...</td>\n",
       "      <td>Desenvolvimento Econômico e Trabalho</td>\n",
       "      <td>3</td>\n",
       "      <td>entao boa tarde todos todas comprimento secret...</td>\n",
       "    </tr>\n",
       "    <tr>\n",
       "      <th>4</th>\n",
       "      <td>[obrigada, agradeco, oportunidade, faco, parte...</td>\n",
       "      <td>Zeladoria Urbana e melhorias de bairro</td>\n",
       "      <td>4</td>\n",
       "      <td>obrigada agradeco oportunidade faco parte rede...</td>\n",
       "    </tr>\n",
       "  </tbody>\n",
       "</table>\n",
       "</div>"
      ],
      "text/plain": [
       "                                        tokens_clean  \\\n",
       "0  [boa, tarde, todas, todos, nome, francisco, ap...   \n",
       "1  [oi, mario, sergio, bortolotto, favor, respond...   \n",
       "2  [entao, boa, tarde, todos, todas, comprimento,...   \n",
       "3  [entao, boa, tarde, todos, todas, comprimento,...   \n",
       "4  [obrigada, agradeco, oportunidade, faco, parte...   \n",
       "\n",
       "                                     tema  id  \\\n",
       "0                           Meio Ambiente   0   \n",
       "1               Urbanismo e Licenciamento   1   \n",
       "2  Zeladoria Urbana e melhorias de bairro   2   \n",
       "3    Desenvolvimento Econômico e Trabalho   3   \n",
       "4  Zeladoria Urbana e melhorias de bairro   4   \n",
       "\n",
       "                                             corpora  \n",
       "0  boa tarde todas todos nome francisco apelido c...  \n",
       "1  oi mario sergio bortolotto favor responde enco...  \n",
       "2  entao boa tarde todos todas comprimento secret...  \n",
       "3  entao boa tarde todos todas comprimento secret...  \n",
       "4  obrigada agradeco oportunidade faco parte rede...  "
      ]
     },
     "execution_count": 15,
     "metadata": {},
     "output_type": "execute_result"
    }
   ],
   "source": [
    "df.head()"
   ]
  },
  {
   "cell_type": "code",
   "execution_count": 16,
   "metadata": {},
   "outputs": [],
   "source": [
    "df = df[['id', 'corpora', 'tema']]"
   ]
  },
  {
   "cell_type": "code",
   "execution_count": 17,
   "metadata": {},
   "outputs": [
    {
     "data": {
      "text/html": [
       "<div>\n",
       "<style scoped>\n",
       "    .dataframe tbody tr th:only-of-type {\n",
       "        vertical-align: middle;\n",
       "    }\n",
       "\n",
       "    .dataframe tbody tr th {\n",
       "        vertical-align: top;\n",
       "    }\n",
       "\n",
       "    .dataframe thead th {\n",
       "        text-align: right;\n",
       "    }\n",
       "</style>\n",
       "<table border=\"1\" class=\"dataframe\">\n",
       "  <thead>\n",
       "    <tr style=\"text-align: right;\">\n",
       "      <th></th>\n",
       "      <th>id</th>\n",
       "      <th>corpora</th>\n",
       "      <th>tema</th>\n",
       "    </tr>\n",
       "  </thead>\n",
       "  <tbody>\n",
       "    <tr>\n",
       "      <th>0</th>\n",
       "      <td>0</td>\n",
       "      <td>boa tarde todas todos nome francisco apelido c...</td>\n",
       "      <td>Meio Ambiente</td>\n",
       "    </tr>\n",
       "    <tr>\n",
       "      <th>1</th>\n",
       "      <td>1</td>\n",
       "      <td>oi mario sergio bortolotto favor responde enco...</td>\n",
       "      <td>Urbanismo e Licenciamento</td>\n",
       "    </tr>\n",
       "    <tr>\n",
       "      <th>2</th>\n",
       "      <td>2</td>\n",
       "      <td>entao boa tarde todos todas comprimento secret...</td>\n",
       "      <td>Zeladoria Urbana e melhorias de bairro</td>\n",
       "    </tr>\n",
       "    <tr>\n",
       "      <th>3</th>\n",
       "      <td>3</td>\n",
       "      <td>entao boa tarde todos todas comprimento secret...</td>\n",
       "      <td>Desenvolvimento Econômico e Trabalho</td>\n",
       "    </tr>\n",
       "    <tr>\n",
       "      <th>4</th>\n",
       "      <td>4</td>\n",
       "      <td>obrigada agradeco oportunidade faco parte rede...</td>\n",
       "      <td>Zeladoria Urbana e melhorias de bairro</td>\n",
       "    </tr>\n",
       "  </tbody>\n",
       "</table>\n",
       "</div>"
      ],
      "text/plain": [
       "   id                                            corpora  \\\n",
       "0   0  boa tarde todas todos nome francisco apelido c...   \n",
       "1   1  oi mario sergio bortolotto favor responde enco...   \n",
       "2   2  entao boa tarde todos todas comprimento secret...   \n",
       "3   3  entao boa tarde todos todas comprimento secret...   \n",
       "4   4  obrigada agradeco oportunidade faco parte rede...   \n",
       "\n",
       "                                     tema  \n",
       "0                           Meio Ambiente  \n",
       "1               Urbanismo e Licenciamento  \n",
       "2  Zeladoria Urbana e melhorias de bairro  \n",
       "3    Desenvolvimento Econômico e Trabalho  \n",
       "4  Zeladoria Urbana e melhorias de bairro  "
      ]
     },
     "execution_count": 17,
     "metadata": {},
     "output_type": "execute_result"
    }
   ],
   "source": [
    "df.head()"
   ]
  },
  {
   "cell_type": "code",
   "execution_count": 18,
   "metadata": {},
   "outputs": [],
   "source": [
    "vectorizer = CountVectorizer()"
   ]
  },
  {
   "cell_type": "code",
   "execution_count": 19,
   "metadata": {},
   "outputs": [],
   "source": [
    "bow_matrix= vectorizer.fit_transform(df['corpora'])"
   ]
  },
  {
   "cell_type": "code",
   "execution_count": 20,
   "metadata": {},
   "outputs": [],
   "source": [
    "bow_df = pd.DataFrame(bow_matrix.toarray(), columns=vectorizer.get_feature_names_out())"
   ]
  },
  {
   "cell_type": "code",
   "execution_count": 21,
   "metadata": {},
   "outputs": [
    {
     "data": {
      "text/html": [
       "<div>\n",
       "<style scoped>\n",
       "    .dataframe tbody tr th:only-of-type {\n",
       "        vertical-align: middle;\n",
       "    }\n",
       "\n",
       "    .dataframe tbody tr th {\n",
       "        vertical-align: top;\n",
       "    }\n",
       "\n",
       "    .dataframe thead th {\n",
       "        text-align: right;\n",
       "    }\n",
       "</style>\n",
       "<table border=\"1\" class=\"dataframe\">\n",
       "  <thead>\n",
       "    <tr style=\"text-align: right;\">\n",
       "      <th></th>\n",
       "      <th>1000km</th>\n",
       "      <th>100km</th>\n",
       "      <th>10ampliar</th>\n",
       "      <th>10h</th>\n",
       "      <th>10km</th>\n",
       "      <th>119c10201210</th>\n",
       "      <th>11o</th>\n",
       "      <th>12e3</th>\n",
       "      <th>12milhoes</th>\n",
       "      <th>12o</th>\n",
       "      <th>...</th>\n",
       "      <th>zildo</th>\n",
       "      <th>zituo</th>\n",
       "      <th>zn</th>\n",
       "      <th>zogbi</th>\n",
       "      <th>zom</th>\n",
       "      <th>zona</th>\n",
       "      <th>zonas</th>\n",
       "      <th>zoneamento</th>\n",
       "      <th>zr1</th>\n",
       "      <th>zum</th>\n",
       "    </tr>\n",
       "  </thead>\n",
       "  <tbody>\n",
       "    <tr>\n",
       "      <th>0</th>\n",
       "      <td>0</td>\n",
       "      <td>0</td>\n",
       "      <td>0</td>\n",
       "      <td>0</td>\n",
       "      <td>0</td>\n",
       "      <td>0</td>\n",
       "      <td>0</td>\n",
       "      <td>0</td>\n",
       "      <td>0</td>\n",
       "      <td>0</td>\n",
       "      <td>...</td>\n",
       "      <td>0</td>\n",
       "      <td>0</td>\n",
       "      <td>0</td>\n",
       "      <td>0</td>\n",
       "      <td>0</td>\n",
       "      <td>0</td>\n",
       "      <td>0</td>\n",
       "      <td>0</td>\n",
       "      <td>0</td>\n",
       "      <td>0</td>\n",
       "    </tr>\n",
       "    <tr>\n",
       "      <th>1</th>\n",
       "      <td>0</td>\n",
       "      <td>0</td>\n",
       "      <td>0</td>\n",
       "      <td>0</td>\n",
       "      <td>0</td>\n",
       "      <td>0</td>\n",
       "      <td>0</td>\n",
       "      <td>0</td>\n",
       "      <td>0</td>\n",
       "      <td>0</td>\n",
       "      <td>...</td>\n",
       "      <td>0</td>\n",
       "      <td>0</td>\n",
       "      <td>0</td>\n",
       "      <td>0</td>\n",
       "      <td>0</td>\n",
       "      <td>0</td>\n",
       "      <td>0</td>\n",
       "      <td>0</td>\n",
       "      <td>0</td>\n",
       "      <td>0</td>\n",
       "    </tr>\n",
       "    <tr>\n",
       "      <th>2</th>\n",
       "      <td>0</td>\n",
       "      <td>0</td>\n",
       "      <td>0</td>\n",
       "      <td>0</td>\n",
       "      <td>0</td>\n",
       "      <td>0</td>\n",
       "      <td>0</td>\n",
       "      <td>0</td>\n",
       "      <td>0</td>\n",
       "      <td>0</td>\n",
       "      <td>...</td>\n",
       "      <td>0</td>\n",
       "      <td>0</td>\n",
       "      <td>0</td>\n",
       "      <td>0</td>\n",
       "      <td>0</td>\n",
       "      <td>0</td>\n",
       "      <td>0</td>\n",
       "      <td>0</td>\n",
       "      <td>0</td>\n",
       "      <td>0</td>\n",
       "    </tr>\n",
       "    <tr>\n",
       "      <th>3</th>\n",
       "      <td>0</td>\n",
       "      <td>0</td>\n",
       "      <td>0</td>\n",
       "      <td>0</td>\n",
       "      <td>0</td>\n",
       "      <td>0</td>\n",
       "      <td>0</td>\n",
       "      <td>0</td>\n",
       "      <td>0</td>\n",
       "      <td>0</td>\n",
       "      <td>...</td>\n",
       "      <td>0</td>\n",
       "      <td>0</td>\n",
       "      <td>0</td>\n",
       "      <td>0</td>\n",
       "      <td>0</td>\n",
       "      <td>0</td>\n",
       "      <td>0</td>\n",
       "      <td>0</td>\n",
       "      <td>0</td>\n",
       "      <td>0</td>\n",
       "    </tr>\n",
       "    <tr>\n",
       "      <th>4</th>\n",
       "      <td>0</td>\n",
       "      <td>0</td>\n",
       "      <td>0</td>\n",
       "      <td>0</td>\n",
       "      <td>0</td>\n",
       "      <td>0</td>\n",
       "      <td>0</td>\n",
       "      <td>0</td>\n",
       "      <td>0</td>\n",
       "      <td>0</td>\n",
       "      <td>...</td>\n",
       "      <td>0</td>\n",
       "      <td>0</td>\n",
       "      <td>0</td>\n",
       "      <td>0</td>\n",
       "      <td>0</td>\n",
       "      <td>0</td>\n",
       "      <td>0</td>\n",
       "      <td>0</td>\n",
       "      <td>0</td>\n",
       "      <td>0</td>\n",
       "    </tr>\n",
       "  </tbody>\n",
       "</table>\n",
       "<p>5 rows × 16701 columns</p>\n",
       "</div>"
      ],
      "text/plain": [
       "   1000km  100km  10ampliar  10h  10km  119c10201210  11o  12e3  12milhoes  \\\n",
       "0       0      0          0    0     0             0    0     0          0   \n",
       "1       0      0          0    0     0             0    0     0          0   \n",
       "2       0      0          0    0     0             0    0     0          0   \n",
       "3       0      0          0    0     0             0    0     0          0   \n",
       "4       0      0          0    0     0             0    0     0          0   \n",
       "\n",
       "   12o  ...  zildo  zituo  zn  zogbi  zom  zona  zonas  zoneamento  zr1  zum  \n",
       "0    0  ...      0      0   0      0    0     0      0           0    0    0  \n",
       "1    0  ...      0      0   0      0    0     0      0           0    0    0  \n",
       "2    0  ...      0      0   0      0    0     0      0           0    0    0  \n",
       "3    0  ...      0      0   0      0    0     0      0           0    0    0  \n",
       "4    0  ...      0      0   0      0    0     0      0           0    0    0  \n",
       "\n",
       "[5 rows x 16701 columns]"
      ]
     },
     "execution_count": 21,
     "metadata": {},
     "output_type": "execute_result"
    }
   ],
   "source": [
    "bow_df.head()"
   ]
  },
  {
   "cell_type": "code",
   "execution_count": 22,
   "metadata": {},
   "outputs": [
    {
     "data": {
      "text/plain": [
       "(3581, 3)"
      ]
     },
     "execution_count": 22,
     "metadata": {},
     "output_type": "execute_result"
    }
   ],
   "source": [
    "df.shape"
   ]
  },
  {
   "cell_type": "code",
   "execution_count": 23,
   "metadata": {},
   "outputs": [
    {
     "data": {
      "text/plain": [
       "(3581, 16701)"
      ]
     },
     "execution_count": 23,
     "metadata": {},
     "output_type": "execute_result"
    }
   ],
   "source": [
    "bow_df.shape"
   ]
  },
  {
   "cell_type": "code",
   "execution_count": 24,
   "metadata": {},
   "outputs": [],
   "source": [
    "bow_df['id'] = df['id']"
   ]
  },
  {
   "cell_type": "code",
   "execution_count": 25,
   "metadata": {},
   "outputs": [],
   "source": [
    "bow_df['y'] = df['tema']"
   ]
  },
  {
   "cell_type": "code",
   "execution_count": 26,
   "metadata": {},
   "outputs": [
    {
     "data": {
      "text/plain": [
       "'../data/bag_of_words_df.csv'"
      ]
     },
     "execution_count": 26,
     "metadata": {},
     "output_type": "execute_result"
    }
   ],
   "source": [
    "bow_df.to_parquet(os.path.join())"
   ]
  },
  {
   "cell_type": "code",
   "execution_count": null,
   "metadata": {},
   "outputs": [],
   "source": []
  }
 ],
 "metadata": {
  "kernelspec": {
   "display_name": "venv",
   "language": "python",
   "name": "python3"
  },
  "language_info": {
   "codemirror_mode": {
    "name": "ipython",
    "version": 3
   },
   "file_extension": ".py",
   "mimetype": "text/x-python",
   "name": "python",
   "nbconvert_exporter": "python",
   "pygments_lexer": "ipython3",
   "version": "3.13.1"
  }
 },
 "nbformat": 4,
 "nbformat_minor": 2
}
