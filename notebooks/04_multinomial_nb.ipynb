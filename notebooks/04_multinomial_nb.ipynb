{
 "cells": [
  {
   "cell_type": "code",
   "execution_count": 1,
   "metadata": {},
   "outputs": [],
   "source": [
    "from utils import read_df_parquet\n",
    "\n",
    "from sklearn.naive_bayes import MultinomialNB\n",
    "from sklearn.pipeline import make_pipeline\n",
    "from sklearn.pipeline import make_pipeline\n",
    "from sklearn.model_selection import cross_val_score, StratifiedKFold"
   ]
  },
  {
   "cell_type": "code",
   "execution_count": 2,
   "metadata": {},
   "outputs": [],
   "source": [
    "model = MultinomialNB()"
   ]
  },
  {
   "cell_type": "markdown",
   "metadata": {},
   "source": []
  },
  {
   "cell_type": "code",
   "execution_count": 3,
   "metadata": {},
   "outputs": [],
   "source": [
    "data = read_df_parquet('bag_of_words_df.parquet')"
   ]
  },
  {
   "cell_type": "code",
   "execution_count": 4,
   "metadata": {},
   "outputs": [
    {
     "data": {
      "text/html": [
       "<div>\n",
       "<style scoped>\n",
       "    .dataframe tbody tr th:only-of-type {\n",
       "        vertical-align: middle;\n",
       "    }\n",
       "\n",
       "    .dataframe tbody tr th {\n",
       "        vertical-align: top;\n",
       "    }\n",
       "\n",
       "    .dataframe thead th {\n",
       "        text-align: right;\n",
       "    }\n",
       "</style>\n",
       "<table border=\"1\" class=\"dataframe\">\n",
       "  <thead>\n",
       "    <tr style=\"text-align: right;\">\n",
       "      <th></th>\n",
       "      <th>1000km</th>\n",
       "      <th>100km</th>\n",
       "      <th>10ampli</th>\n",
       "      <th>10h</th>\n",
       "      <th>10km</th>\n",
       "      <th>119c10201210</th>\n",
       "      <th>11o</th>\n",
       "      <th>12e3</th>\n",
       "      <th>12milho</th>\n",
       "      <th>12o</th>\n",
       "      <th>...</th>\n",
       "      <th>zild</th>\n",
       "      <th>zitu</th>\n",
       "      <th>zn</th>\n",
       "      <th>zogb</th>\n",
       "      <th>zom</th>\n",
       "      <th>zon</th>\n",
       "      <th>zone</th>\n",
       "      <th>zr1</th>\n",
       "      <th>zum</th>\n",
       "      <th>y</th>\n",
       "    </tr>\n",
       "  </thead>\n",
       "  <tbody>\n",
       "    <tr>\n",
       "      <th>1792</th>\n",
       "      <td>0</td>\n",
       "      <td>0</td>\n",
       "      <td>0</td>\n",
       "      <td>0</td>\n",
       "      <td>0</td>\n",
       "      <td>0</td>\n",
       "      <td>0</td>\n",
       "      <td>0</td>\n",
       "      <td>0</td>\n",
       "      <td>0</td>\n",
       "      <td>...</td>\n",
       "      <td>0</td>\n",
       "      <td>0</td>\n",
       "      <td>0</td>\n",
       "      <td>0</td>\n",
       "      <td>0</td>\n",
       "      <td>0</td>\n",
       "      <td>0</td>\n",
       "      <td>0</td>\n",
       "      <td>0</td>\n",
       "      <td>None</td>\n",
       "    </tr>\n",
       "    <tr>\n",
       "      <th>10</th>\n",
       "      <td>0</td>\n",
       "      <td>0</td>\n",
       "      <td>0</td>\n",
       "      <td>0</td>\n",
       "      <td>0</td>\n",
       "      <td>0</td>\n",
       "      <td>0</td>\n",
       "      <td>0</td>\n",
       "      <td>0</td>\n",
       "      <td>0</td>\n",
       "      <td>...</td>\n",
       "      <td>0</td>\n",
       "      <td>0</td>\n",
       "      <td>0</td>\n",
       "      <td>0</td>\n",
       "      <td>0</td>\n",
       "      <td>0</td>\n",
       "      <td>0</td>\n",
       "      <td>0</td>\n",
       "      <td>0</td>\n",
       "      <td>Habitação</td>\n",
       "    </tr>\n",
       "    <tr>\n",
       "      <th>1280</th>\n",
       "      <td>0</td>\n",
       "      <td>0</td>\n",
       "      <td>0</td>\n",
       "      <td>0</td>\n",
       "      <td>0</td>\n",
       "      <td>0</td>\n",
       "      <td>0</td>\n",
       "      <td>0</td>\n",
       "      <td>0</td>\n",
       "      <td>0</td>\n",
       "      <td>...</td>\n",
       "      <td>0</td>\n",
       "      <td>0</td>\n",
       "      <td>0</td>\n",
       "      <td>0</td>\n",
       "      <td>0</td>\n",
       "      <td>0</td>\n",
       "      <td>0</td>\n",
       "      <td>0</td>\n",
       "      <td>0</td>\n",
       "      <td>None</td>\n",
       "    </tr>\n",
       "  </tbody>\n",
       "</table>\n",
       "<p>3 rows × 8648 columns</p>\n",
       "</div>"
      ],
      "text/plain": [
       "      1000km  100km  10ampli  10h  10km  119c10201210  11o  12e3  12milho  \\\n",
       "1792       0      0        0    0     0             0    0     0        0   \n",
       "10         0      0        0    0     0             0    0     0        0   \n",
       "1280       0      0        0    0     0             0    0     0        0   \n",
       "\n",
       "      12o  ...  zild  zitu  zn  zogb  zom  zon  zone  zr1  zum          y  \n",
       "1792    0  ...     0     0   0     0    0    0     0    0    0       None  \n",
       "10      0  ...     0     0   0     0    0    0     0    0    0  Habitação  \n",
       "1280    0  ...     0     0   0     0    0    0     0    0    0       None  \n",
       "\n",
       "[3 rows x 8648 columns]"
      ]
     },
     "execution_count": 4,
     "metadata": {},
     "output_type": "execute_result"
    }
   ],
   "source": [
    "data.sample(3)"
   ]
  },
  {
   "cell_type": "code",
   "execution_count": 5,
   "metadata": {},
   "outputs": [
    {
     "data": {
      "text/plain": [
       "(2212, 8648)"
      ]
     },
     "execution_count": 5,
     "metadata": {},
     "output_type": "execute_result"
    }
   ],
   "source": [
    "data.shape"
   ]
  },
  {
   "cell_type": "code",
   "execution_count": 6,
   "metadata": {},
   "outputs": [
    {
     "data": {
      "text/plain": [
       "array(['Meio Ambiente', 'Urbanismo e Licenciamento',\n",
       "       'Zeladoria Urbana e melhorias de bairro', None,\n",
       "       'Assistência Social', 'Habitação',\n",
       "       'Desenvolvimento Econômico e Trabalho', 'Transportes e Mobilidade',\n",
       "       'Saúde', 'Pessoa com Deficiência', 'Educação', 'Cultura',\n",
       "       'Infraestrutura Urbana e Obras', 'Segurança Urbana',\n",
       "       'Direitos Humanos e Cidadania', 'Inovação e Tecnologia',\n",
       "       'Esporte e Lazer'], dtype=object)"
      ]
     },
     "execution_count": 6,
     "metadata": {},
     "output_type": "execute_result"
    }
   ],
   "source": [
    "data['y'].unique()"
   ]
  },
  {
   "cell_type": "code",
   "execution_count": 7,
   "metadata": {},
   "outputs": [
    {
     "data": {
      "text/plain": [
       "y\n",
       "Saúde                                     251\n",
       "Transportes e Mobilidade                  163\n",
       "Meio Ambiente                             135\n",
       "Zeladoria Urbana e melhorias de bairro    125\n",
       "Assistência Social                         96\n",
       "Segurança Urbana                           81\n",
       "Habitação                                  78\n",
       "Educação                                   47\n",
       "Desenvolvimento Econômico e Trabalho       44\n",
       "Direitos Humanos e Cidadania               43\n",
       "Cultura                                    42\n",
       "Urbanismo e Licenciamento                  33\n",
       "Infraestrutura Urbana e Obras              24\n",
       "Pessoa com Deficiência                     14\n",
       "Esporte e Lazer                            10\n",
       "Inovação e Tecnologia                       6\n",
       "Name: count, dtype: int64"
      ]
     },
     "execution_count": 7,
     "metadata": {},
     "output_type": "execute_result"
    }
   ],
   "source": [
    "data['y'].value_counts()"
   ]
  },
  {
   "cell_type": "code",
   "execution_count": 8,
   "metadata": {},
   "outputs": [
    {
     "data": {
      "text/plain": [
       "(2212, 8648)"
      ]
     },
     "execution_count": 8,
     "metadata": {},
     "output_type": "execute_result"
    }
   ],
   "source": [
    "data.shape"
   ]
  },
  {
   "cell_type": "code",
   "execution_count": 9,
   "metadata": {},
   "outputs": [
    {
     "data": {
      "text/plain": [
       "(2212, 8648)"
      ]
     },
     "execution_count": 9,
     "metadata": {},
     "output_type": "execute_result"
    }
   ],
   "source": [
    "data.shape"
   ]
  },
  {
   "cell_type": "code",
   "execution_count": 10,
   "metadata": {},
   "outputs": [
    {
     "data": {
      "text/plain": [
       "np.True_"
      ]
     },
     "execution_count": 10,
     "metadata": {},
     "output_type": "execute_result"
    }
   ],
   "source": [
    "data['y'].isnull().any()"
   ]
  },
  {
   "cell_type": "code",
   "execution_count": 11,
   "metadata": {},
   "outputs": [
    {
     "data": {
      "text/plain": [
       "np.float64(0.46112115732368897)"
      ]
     },
     "execution_count": 11,
     "metadata": {},
     "output_type": "execute_result"
    }
   ],
   "source": [
    "data['y'].isnull().mean()"
   ]
  },
  {
   "cell_type": "code",
   "execution_count": 12,
   "metadata": {},
   "outputs": [
    {
     "data": {
      "text/plain": [
       "np.int64(1020)"
      ]
     },
     "execution_count": 12,
     "metadata": {},
     "output_type": "execute_result"
    }
   ],
   "source": [
    "data['y'].isnull().sum()"
   ]
  },
  {
   "cell_type": "code",
   "execution_count": 13,
   "metadata": {},
   "outputs": [],
   "source": [
    "data = data[data['y'].notnull()].reset_index(drop=True)"
   ]
  },
  {
   "cell_type": "code",
   "execution_count": 14,
   "metadata": {},
   "outputs": [
    {
     "data": {
      "text/plain": [
       "y\n",
       "Saúde                                     251\n",
       "Transportes e Mobilidade                  163\n",
       "Meio Ambiente                             135\n",
       "Zeladoria Urbana e melhorias de bairro    125\n",
       "Assistência Social                         96\n",
       "Segurança Urbana                           81\n",
       "Habitação                                  78\n",
       "Educação                                   47\n",
       "Desenvolvimento Econômico e Trabalho       44\n",
       "Direitos Humanos e Cidadania               43\n",
       "Cultura                                    42\n",
       "Urbanismo e Licenciamento                  33\n",
       "Infraestrutura Urbana e Obras              24\n",
       "Pessoa com Deficiência                     14\n",
       "Esporte e Lazer                            10\n",
       "Inovação e Tecnologia                       6\n",
       "Name: count, dtype: int64"
      ]
     },
     "execution_count": 14,
     "metadata": {},
     "output_type": "execute_result"
    }
   ],
   "source": [
    "data['y'].value_counts()"
   ]
  },
  {
   "cell_type": "code",
   "execution_count": 15,
   "metadata": {},
   "outputs": [],
   "source": [
    "cats = data['y'].unique()[data['y'].value_counts()>33]\n",
    "data = data[data['y'].isin(cats)]"
   ]
  },
  {
   "cell_type": "code",
   "execution_count": 23,
   "metadata": {},
   "outputs": [
    {
     "data": {
      "text/plain": [
       "y\n",
       "Saúde                                     251\n",
       "Transportes e Mobilidade                  163\n",
       "Meio Ambiente                             135\n",
       "Zeladoria Urbana e melhorias de bairro    125\n",
       "Assistência Social                         96\n",
       "Habitação                                  78\n",
       "Educação                                   47\n",
       "Desenvolvimento Econômico e Trabalho       44\n",
       "Cultura                                    42\n",
       "Urbanismo e Licenciamento                  33\n",
       "Pessoa com Deficiência                     14\n",
       "Name: count, dtype: int64"
      ]
     },
     "execution_count": 23,
     "metadata": {},
     "output_type": "execute_result"
    }
   ],
   "source": [
    "data['y'].value_counts()"
   ]
  },
  {
   "cell_type": "code",
   "execution_count": 16,
   "metadata": {},
   "outputs": [],
   "source": [
    "y = data['y']\n",
    "X = data.drop('y', axis=1).values"
   ]
  },
  {
   "cell_type": "code",
   "execution_count": 17,
   "metadata": {},
   "outputs": [],
   "source": [
    "# Definir a estratégia de validação cruzada estratificada\n",
    "cv = StratifiedKFold(n_splits=10, shuffle=True, random_state=42)"
   ]
  },
  {
   "cell_type": "code",
   "execution_count": 18,
   "metadata": {},
   "outputs": [],
   "source": [
    "scores = cross_val_score(model, X, y, cv=cv, scoring=\"accuracy\")"
   ]
  },
  {
   "cell_type": "code",
   "execution_count": 19,
   "metadata": {},
   "outputs": [
    {
     "data": {
      "text/plain": [
       "array([0.22330097, 0.25242718, 0.26213592, 0.23300971, 0.24271845,\n",
       "       0.25242718, 0.22330097, 0.24271845, 0.21568627, 0.2745098 ])"
      ]
     },
     "execution_count": 19,
     "metadata": {},
     "output_type": "execute_result"
    }
   ],
   "source": [
    "scores"
   ]
  },
  {
   "cell_type": "code",
   "execution_count": 20,
   "metadata": {},
   "outputs": [
    {
     "name": "stdout",
     "output_type": "stream",
     "text": [
      "Acurácia média: 0.24 ± 0.02\n"
     ]
    }
   ],
   "source": [
    "print(f\"Acurácia média: {scores.mean():.2f} ± {scores.std():.2f}\")"
   ]
  },
  {
   "cell_type": "code",
   "execution_count": 21,
   "metadata": {},
   "outputs": [],
   "source": [
    "scores = cross_val_score(model, X, y, cv=cv, scoring=\"f1_macro\")"
   ]
  },
  {
   "cell_type": "code",
   "execution_count": 22,
   "metadata": {},
   "outputs": [
    {
     "name": "stdout",
     "output_type": "stream",
     "text": [
      "f1 média: 0.08 ± 0.01\n"
     ]
    }
   ],
   "source": [
    "print(f\"f1 média: {scores.mean():.2f} ± {scores.std():.2f}\")"
   ]
  },
  {
   "cell_type": "code",
   "execution_count": null,
   "metadata": {},
   "outputs": [],
   "source": []
  }
 ],
 "metadata": {
  "kernelspec": {
   "display_name": "venv",
   "language": "python",
   "name": "python3"
  },
  "language_info": {
   "codemirror_mode": {
    "name": "ipython",
    "version": 3
   },
   "file_extension": ".py",
   "mimetype": "text/x-python",
   "name": "python",
   "nbconvert_exporter": "python",
   "pygments_lexer": "ipython3",
   "version": "3.13.1"
  }
 },
 "nbformat": 4,
 "nbformat_minor": 2
}
