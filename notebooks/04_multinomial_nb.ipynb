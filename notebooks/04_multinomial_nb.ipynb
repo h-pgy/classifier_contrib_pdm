{
 "cells": [
  {
   "cell_type": "code",
   "execution_count": 1,
   "metadata": {},
   "outputs": [],
   "source": [
    "from utils import read_df_parquet\n",
    "\n",
    "from sklearn.naive_bayes import MultinomialNB\n",
    "from sklearn.pipeline import make_pipeline"
   ]
  },
  {
   "cell_type": "code",
   "execution_count": 3,
   "metadata": {},
   "outputs": [],
   "source": [
    "model = MultinomialNB()"
   ]
  },
  {
   "cell_type": "code",
   "execution_count": 4,
   "metadata": {},
   "outputs": [],
   "source": [
    "data = read_df_parquet('dados_tokenizados.parquet')"
   ]
  },
  {
   "cell_type": "code",
   "execution_count": 5,
   "metadata": {},
   "outputs": [
    {
     "data": {
      "text/html": [
       "<div>\n",
       "<style scoped>\n",
       "    .dataframe tbody tr th:only-of-type {\n",
       "        vertical-align: middle;\n",
       "    }\n",
       "\n",
       "    .dataframe tbody tr th {\n",
       "        vertical-align: top;\n",
       "    }\n",
       "\n",
       "    .dataframe thead th {\n",
       "        text-align: right;\n",
       "    }\n",
       "</style>\n",
       "<table border=\"1\" class=\"dataframe\">\n",
       "  <thead>\n",
       "    <tr style=\"text-align: right;\">\n",
       "      <th></th>\n",
       "      <th>id</th>\n",
       "      <th>canal</th>\n",
       "      <th>texto_original</th>\n",
       "      <th>temas</th>\n",
       "      <th>texto_limpo</th>\n",
       "      <th>tokens</th>\n",
       "      <th>tokens_clean</th>\n",
       "    </tr>\n",
       "  </thead>\n",
       "  <tbody>\n",
       "    <tr>\n",
       "      <th>1127</th>\n",
       "      <td>1787</td>\n",
       "      <td>Participe+</td>\n",
       "      <td>Meta 28 - Revisar - Contemplar praca Aureliano...</td>\n",
       "      <td>['Segurança Urbana']</td>\n",
       "      <td>meta 28 - revisar - contemplar praca aureliano...</td>\n",
       "      <td>[meta, 28, -, revisar, -, contemplar, praca, a...</td>\n",
       "      <td>[revisar, contemplar, praca, aureliano, leite,...</td>\n",
       "    </tr>\n",
       "    <tr>\n",
       "      <th>1300</th>\n",
       "      <td>2001</td>\n",
       "      <td>Participe+</td>\n",
       "      <td>Meta 47 - Iniciativa A - Revisar - A mudança e...</td>\n",
       "      <td>['Transportes e Mobilidade']</td>\n",
       "      <td>meta 47 - iniciativa a - revisar - a mudança e...</td>\n",
       "      <td>[meta, 47, -, iniciativa, a, -, revisar, -, a,...</td>\n",
       "      <td>[revisar, mudanca, criacao, linhas, ira, resul...</td>\n",
       "    </tr>\n",
       "    <tr>\n",
       "      <th>129</th>\n",
       "      <td>130</td>\n",
       "      <td>Audiência Regional - Jabaquara</td>\n",
       "      <td>Boa noite a todos. Em primeiro lugar, eu gosta...</td>\n",
       "      <td>['Urbanismo e Licenciamento']</td>\n",
       "      <td>boa noite a todos. em primeiro lugar, eu gosta...</td>\n",
       "      <td>[boa, noite, a, todos, ., em, primeiro, lugar,...</td>\n",
       "      <td>[boa, noite, todos, primeiro, lugar, gostaria,...</td>\n",
       "    </tr>\n",
       "  </tbody>\n",
       "</table>\n",
       "</div>"
      ],
      "text/plain": [
       "        id  ...                                       tokens_clean\n",
       "1127  1787  ...  [revisar, contemplar, praca, aureliano, leite,...\n",
       "1300  2001  ...  [revisar, mudanca, criacao, linhas, ira, resul...\n",
       "129    130  ...  [boa, noite, todos, primeiro, lugar, gostaria,...\n",
       "\n",
       "[3 rows x 7 columns]"
      ]
     },
     "execution_count": 5,
     "metadata": {},
     "output_type": "execute_result"
    }
   ],
   "source": [
    "data.sample(3)"
   ]
  },
  {
   "cell_type": "code",
   "execution_count": null,
   "metadata": {},
   "outputs": [],
   "source": []
  }
 ],
 "metadata": {
  "kernelspec": {
   "display_name": "venv",
   "language": "python",
   "name": "python3"
  },
  "language_info": {
   "codemirror_mode": {
    "name": "ipython",
    "version": 3
   },
   "file_extension": ".py",
   "mimetype": "text/x-python",
   "name": "python",
   "nbconvert_exporter": "python",
   "pygments_lexer": "ipython3",
   "version": "3.13.1"
  }
 },
 "nbformat": 4,
 "nbformat_minor": 2
}
