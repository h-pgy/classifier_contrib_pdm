{
 "cells": [
  {
   "cell_type": "code",
   "execution_count": 1,
   "id": "923efdca",
   "metadata": {},
   "outputs": [
    {
     "name": "stderr",
     "output_type": "stream",
     "text": [
      "[nltk_data] Downloading package punkt to /home/h-pgy/nltk_data...\n",
      "[nltk_data]   Package punkt is already up-to-date!\n",
      "[nltk_data] Downloading package wordnet to /home/h-pgy/nltk_data...\n",
      "[nltk_data]   Package wordnet is already up-to-date!\n",
      "[nltk_data] Downloading package stopwords to /home/h-pgy/nltk_data...\n",
      "[nltk_data]   Package stopwords is already up-to-date!\n",
      "[nltk_data] Downloading package punkt to /home/h-pgy/nltk_data...\n",
      "[nltk_data]   Package punkt is already up-to-date!\n",
      "[nltk_data] Downloading package wordnet to /home/h-pgy/nltk_data...\n",
      "[nltk_data]   Package wordnet is already up-to-date!\n",
      "[nltk_data] Downloading package stopwords to /home/h-pgy/nltk_data...\n",
      "[nltk_data]   Package stopwords is already up-to-date!\n"
     ]
    }
   ],
   "source": [
    "import pandas as pd\n",
    "import numpy as np\n",
    "import joblib\n",
    "import os\n",
    "from core.process_text import process_text\n",
    "from config import DATA_DIR\n"
   ]
  },
  {
   "cell_type": "code",
   "execution_count": 2,
   "id": "db2b2b18",
   "metadata": {},
   "outputs": [],
   "source": [
    "model = joblib.load(os.path.join(DATA_DIR, \"svc_model.pkl\"))\n"
   ]
  },
  {
   "cell_type": "code",
   "execution_count": 3,
   "id": "820add68",
   "metadata": {},
   "outputs": [
    {
     "data": {
      "text/plain": [
       "array(['Assistência Social', 'Cultura',\n",
       "       'Desenvolvimento Econômico e Trabalho',\n",
       "       'Direitos Humanos e Cidadania', 'Educação', 'Habitação',\n",
       "       'Infraestrutura Urbana e Obras', 'Meio Ambiente', 'Outros temas',\n",
       "       'Saúde', 'Segurança Urbana', 'Transportes e Mobilidade',\n",
       "       'Urbanismo e Licenciamento',\n",
       "       'Zeladoria Urbana e melhorias de bairro'], dtype=object)"
      ]
     },
     "execution_count": 3,
     "metadata": {},
     "output_type": "execute_result"
    }
   ],
   "source": [
    "categories = model.classes_\n",
    "categories\n"
   ]
  },
  {
   "cell_type": "code",
   "execution_count": 4,
   "id": "82d97227",
   "metadata": {},
   "outputs": [],
   "source": [
    "def predict(frase:str):\n",
    "\n",
    "    processed_text = process_text(frase)\n",
    "            \n",
    "\n",
    "    # Fazer previsão e obter probabilidades\n",
    "    probabilities = model.decision_function([processed_text])  # Para SVC com 'probability=True', usar predict_proba\n",
    "    probabilities = np.exp(probabilities) / np.sum(np.exp(probabilities))  # Softmax para converter em probabilidades\n",
    "\n",
    "    prob_dict = dict(zip(categories, probabilities[0]))\n",
    "\n",
    "    return prob_dict"
   ]
  },
  {
   "cell_type": "code",
   "execution_count": 5,
   "id": "b379ac1f",
   "metadata": {},
   "outputs": [
    {
     "data": {
      "text/plain": [
       "{'Assistência Social': np.float64(0.002842682512236466),\n",
       " 'Cultura': np.float64(2.1860232253846997e-06),\n",
       " 'Desenvolvimento Econômico e Trabalho': np.float64(0.03042029509691258),\n",
       " 'Direitos Humanos e Cidadania': np.float64(1.6391854310990497e-05),\n",
       " 'Educação': np.float64(0.6437545268386093),\n",
       " 'Habitação': np.float64(6.1092776697538825e-06),\n",
       " 'Infraestrutura Urbana e Obras': np.float64(7.944301212389646e-07),\n",
       " 'Meio Ambiente': np.float64(0.0001276035131897771),\n",
       " 'Outros temas': np.float64(0.0012956231691581526),\n",
       " 'Saúde': np.float64(0.009509212430307813),\n",
       " 'Segurança Urbana': np.float64(0.00012882360776876416),\n",
       " 'Transportes e Mobilidade': np.float64(0.08278907650080577),\n",
       " 'Urbanismo e Licenciamento': np.float64(0.00013050835522964617),\n",
       " 'Zeladoria Urbana e melhorias de bairro': np.float64(0.22897616639045423)}"
      ]
     },
     "execution_count": 5,
     "metadata": {},
     "output_type": "execute_result"
    }
   ],
   "source": [
    "preds = predict('Gostaria de mais escolas no meu bairro')\n",
    "preds"
   ]
  },
  {
   "cell_type": "code",
   "execution_count": 6,
   "id": "eda849e7",
   "metadata": {},
   "outputs": [
    {
     "data": {
      "text/plain": [
       "('Educação', np.float64(0.6437545268386093))"
      ]
     },
     "execution_count": 6,
     "metadata": {},
     "output_type": "execute_result"
    }
   ],
   "source": [
    "max_category = max(preds, key=preds.get)\n",
    "max_prob = preds[max_category]\n",
    "max_category, max_prob"
   ]
  },
  {
   "cell_type": "code",
   "execution_count": 7,
   "id": "01bb7443",
   "metadata": {},
   "outputs": [],
   "source": [
    "df = pd.read_csv(os.path.join(DATA_DIR, 'dados_final.csv'), sep=';')"
   ]
  },
  {
   "cell_type": "code",
   "execution_count": 8,
   "id": "1553fb1b",
   "metadata": {},
   "outputs": [
    {
     "data": {
      "text/html": [
       "<div>\n",
       "<style scoped>\n",
       "    .dataframe tbody tr th:only-of-type {\n",
       "        vertical-align: middle;\n",
       "    }\n",
       "\n",
       "    .dataframe tbody tr th {\n",
       "        vertical-align: top;\n",
       "    }\n",
       "\n",
       "    .dataframe thead th {\n",
       "        text-align: right;\n",
       "    }\n",
       "</style>\n",
       "<table border=\"1\" class=\"dataframe\">\n",
       "  <thead>\n",
       "    <tr style=\"text-align: right;\">\n",
       "      <th></th>\n",
       "      <th>audiencia</th>\n",
       "      <th>file_name</th>\n",
       "      <th>duration_audiencia</th>\n",
       "      <th>frase</th>\n",
       "      <th>confidence</th>\n",
       "      <th>channel</th>\n",
       "      <th>offset</th>\n",
       "      <th>duration</th>\n",
       "    </tr>\n",
       "  </thead>\n",
       "  <tbody>\n",
       "    <tr>\n",
       "      <th>0</th>\n",
       "      <td>audiencia_publica_geral</td>\n",
       "      <td>audiencia_publica_geral_clip.wav</td>\n",
       "      <td>67.383167</td>\n",
       "      <td>boa noite a todas e todas sou um homem branco ...</td>\n",
       "      <td>0.802756</td>\n",
       "      <td>1</td>\n",
       "      <td>40</td>\n",
       "      <td>27160</td>\n",
       "    </tr>\n",
       "    <tr>\n",
       "      <th>1</th>\n",
       "      <td>audiencia_publica_geral</td>\n",
       "      <td>audiencia_publica_geral_clip.wav</td>\n",
       "      <td>67.383167</td>\n",
       "      <td>que é a maior cidade do brasil que tem mais re...</td>\n",
       "      <td>0.820823</td>\n",
       "      <td>1</td>\n",
       "      <td>27560</td>\n",
       "      <td>27880</td>\n",
       "    </tr>\n",
       "    <tr>\n",
       "      <th>2</th>\n",
       "      <td>audiencia_publica_geral</td>\n",
       "      <td>audiencia_publica_geral_clip.wav</td>\n",
       "      <td>67.383167</td>\n",
       "      <td>compostagem mas também pode gerar biogás pros ...</td>\n",
       "      <td>0.894802</td>\n",
       "      <td>1</td>\n",
       "      <td>55840</td>\n",
       "      <td>26120</td>\n",
       "    </tr>\n",
       "    <tr>\n",
       "      <th>3</th>\n",
       "      <td>audiencia_publica_geral</td>\n",
       "      <td>audiencia_publica_geral_clip.wav</td>\n",
       "      <td>67.383167</td>\n",
       "      <td>fala que tem que ser a a contratação dos das c...</td>\n",
       "      <td>0.819671</td>\n",
       "      <td>0</td>\n",
       "      <td>82400</td>\n",
       "      <td>29040</td>\n",
       "    </tr>\n",
       "    <tr>\n",
       "      <th>4</th>\n",
       "      <td>audiencia_publica_geral</td>\n",
       "      <td>audiencia_publica_geral_clip.wav</td>\n",
       "      <td>67.383167</td>\n",
       "      <td>é eu tô em são paulo mas se eu atravessar o ou...</td>\n",
       "      <td>0.823547</td>\n",
       "      <td>1</td>\n",
       "      <td>112280</td>\n",
       "      <td>29110</td>\n",
       "    </tr>\n",
       "  </tbody>\n",
       "</table>\n",
       "</div>"
      ],
      "text/plain": [
       "                 audiencia                         file_name  \\\n",
       "0  audiencia_publica_geral  audiencia_publica_geral_clip.wav   \n",
       "1  audiencia_publica_geral  audiencia_publica_geral_clip.wav   \n",
       "2  audiencia_publica_geral  audiencia_publica_geral_clip.wav   \n",
       "3  audiencia_publica_geral  audiencia_publica_geral_clip.wav   \n",
       "4  audiencia_publica_geral  audiencia_publica_geral_clip.wav   \n",
       "\n",
       "   duration_audiencia                                              frase  \\\n",
       "0           67.383167  boa noite a todas e todas sou um homem branco ...   \n",
       "1           67.383167  que é a maior cidade do brasil que tem mais re...   \n",
       "2           67.383167  compostagem mas também pode gerar biogás pros ...   \n",
       "3           67.383167  fala que tem que ser a a contratação dos das c...   \n",
       "4           67.383167  é eu tô em são paulo mas se eu atravessar o ou...   \n",
       "\n",
       "   confidence  channel  offset  duration  \n",
       "0    0.802756        1      40     27160  \n",
       "1    0.820823        1   27560     27880  \n",
       "2    0.894802        1   55840     26120  \n",
       "3    0.819671        0   82400     29040  \n",
       "4    0.823547        1  112280     29110  "
      ]
     },
     "execution_count": 8,
     "metadata": {},
     "output_type": "execute_result"
    }
   ],
   "source": [
    "df.head()"
   ]
  },
  {
   "cell_type": "code",
   "execution_count": 9,
   "id": "a0b27a7b",
   "metadata": {},
   "outputs": [],
   "source": [
    "df['prediction_dict'] = df['frase'].apply(predict)"
   ]
  },
  {
   "cell_type": "code",
   "execution_count": 10,
   "id": "ec09a428",
   "metadata": {},
   "outputs": [],
   "source": [
    "df['best_predict_cat'] = df['prediction_dict'].apply(lambda x: max(x, key=x.get))"
   ]
  },
  {
   "cell_type": "code",
   "execution_count": 11,
   "id": "fc8e5a73",
   "metadata": {},
   "outputs": [
    {
     "data": {
      "text/plain": [
       "0    Zeladoria Urbana e melhorias de bairro\n",
       "1    Zeladoria Urbana e melhorias de bairro\n",
       "2    Zeladoria Urbana e melhorias de bairro\n",
       "3    Zeladoria Urbana e melhorias de bairro\n",
       "4                              Outros temas\n",
       "Name: best_predict_cat, dtype: object"
      ]
     },
     "execution_count": 11,
     "metadata": {},
     "output_type": "execute_result"
    }
   ],
   "source": [
    "df['best_predict_cat'].head()"
   ]
  },
  {
   "cell_type": "code",
   "execution_count": 12,
   "id": "dac19253",
   "metadata": {},
   "outputs": [],
   "source": [
    "df['best_predict_proba'] = df.apply(lambda row: row['prediction_dict'][row['best_predict_cat']], axis=1)"
   ]
  },
  {
   "cell_type": "code",
   "execution_count": 13,
   "id": "c13439df",
   "metadata": {},
   "outputs": [
    {
     "data": {
      "text/html": [
       "<div>\n",
       "<style scoped>\n",
       "    .dataframe tbody tr th:only-of-type {\n",
       "        vertical-align: middle;\n",
       "    }\n",
       "\n",
       "    .dataframe tbody tr th {\n",
       "        vertical-align: top;\n",
       "    }\n",
       "\n",
       "    .dataframe thead th {\n",
       "        text-align: right;\n",
       "    }\n",
       "</style>\n",
       "<table border=\"1\" class=\"dataframe\">\n",
       "  <thead>\n",
       "    <tr style=\"text-align: right;\">\n",
       "      <th></th>\n",
       "      <th>audiencia</th>\n",
       "      <th>file_name</th>\n",
       "      <th>duration_audiencia</th>\n",
       "      <th>frase</th>\n",
       "      <th>confidence</th>\n",
       "      <th>channel</th>\n",
       "      <th>offset</th>\n",
       "      <th>duration</th>\n",
       "      <th>prediction_dict</th>\n",
       "      <th>best_predict_cat</th>\n",
       "      <th>best_predict_proba</th>\n",
       "    </tr>\n",
       "  </thead>\n",
       "  <tbody>\n",
       "    <tr>\n",
       "      <th>0</th>\n",
       "      <td>audiencia_publica_geral</td>\n",
       "      <td>audiencia_publica_geral_clip.wav</td>\n",
       "      <td>67.383167</td>\n",
       "      <td>boa noite a todas e todas sou um homem branco ...</td>\n",
       "      <td>0.802756</td>\n",
       "      <td>1</td>\n",
       "      <td>40</td>\n",
       "      <td>27160</td>\n",
       "      <td>{'Assistência Social': 0.0026577765715708897, ...</td>\n",
       "      <td>Zeladoria Urbana e melhorias de bairro</td>\n",
       "      <td>0.639805</td>\n",
       "    </tr>\n",
       "    <tr>\n",
       "      <th>1</th>\n",
       "      <td>audiencia_publica_geral</td>\n",
       "      <td>audiencia_publica_geral_clip.wav</td>\n",
       "      <td>67.383167</td>\n",
       "      <td>que é a maior cidade do brasil que tem mais re...</td>\n",
       "      <td>0.820823</td>\n",
       "      <td>1</td>\n",
       "      <td>27560</td>\n",
       "      <td>27880</td>\n",
       "      <td>{'Assistência Social': 0.00324328109074648, 'C...</td>\n",
       "      <td>Zeladoria Urbana e melhorias de bairro</td>\n",
       "      <td>0.639347</td>\n",
       "    </tr>\n",
       "    <tr>\n",
       "      <th>2</th>\n",
       "      <td>audiencia_publica_geral</td>\n",
       "      <td>audiencia_publica_geral_clip.wav</td>\n",
       "      <td>67.383167</td>\n",
       "      <td>compostagem mas também pode gerar biogás pros ...</td>\n",
       "      <td>0.894802</td>\n",
       "      <td>1</td>\n",
       "      <td>55840</td>\n",
       "      <td>26120</td>\n",
       "      <td>{'Assistência Social': 0.03028957705192764, 'C...</td>\n",
       "      <td>Zeladoria Urbana e melhorias de bairro</td>\n",
       "      <td>0.639947</td>\n",
       "    </tr>\n",
       "    <tr>\n",
       "      <th>3</th>\n",
       "      <td>audiencia_publica_geral</td>\n",
       "      <td>audiencia_publica_geral_clip.wav</td>\n",
       "      <td>67.383167</td>\n",
       "      <td>fala que tem que ser a a contratação dos das c...</td>\n",
       "      <td>0.819671</td>\n",
       "      <td>0</td>\n",
       "      <td>82400</td>\n",
       "      <td>29040</td>\n",
       "      <td>{'Assistência Social': 0.08309286124138808, 'C...</td>\n",
       "      <td>Zeladoria Urbana e melhorias de bairro</td>\n",
       "      <td>0.638506</td>\n",
       "    </tr>\n",
       "    <tr>\n",
       "      <th>4</th>\n",
       "      <td>audiencia_publica_geral</td>\n",
       "      <td>audiencia_publica_geral_clip.wav</td>\n",
       "      <td>67.383167</td>\n",
       "      <td>é eu tô em são paulo mas se eu atravessar o ou...</td>\n",
       "      <td>0.823547</td>\n",
       "      <td>1</td>\n",
       "      <td>112280</td>\n",
       "      <td>29110</td>\n",
       "      <td>{'Assistência Social': 0.0032084880311539173, ...</td>\n",
       "      <td>Outros temas</td>\n",
       "      <td>0.640900</td>\n",
       "    </tr>\n",
       "  </tbody>\n",
       "</table>\n",
       "</div>"
      ],
      "text/plain": [
       "                 audiencia                         file_name  \\\n",
       "0  audiencia_publica_geral  audiencia_publica_geral_clip.wav   \n",
       "1  audiencia_publica_geral  audiencia_publica_geral_clip.wav   \n",
       "2  audiencia_publica_geral  audiencia_publica_geral_clip.wav   \n",
       "3  audiencia_publica_geral  audiencia_publica_geral_clip.wav   \n",
       "4  audiencia_publica_geral  audiencia_publica_geral_clip.wav   \n",
       "\n",
       "   duration_audiencia                                              frase  \\\n",
       "0           67.383167  boa noite a todas e todas sou um homem branco ...   \n",
       "1           67.383167  que é a maior cidade do brasil que tem mais re...   \n",
       "2           67.383167  compostagem mas também pode gerar biogás pros ...   \n",
       "3           67.383167  fala que tem que ser a a contratação dos das c...   \n",
       "4           67.383167  é eu tô em são paulo mas se eu atravessar o ou...   \n",
       "\n",
       "   confidence  channel  offset  duration  \\\n",
       "0    0.802756        1      40     27160   \n",
       "1    0.820823        1   27560     27880   \n",
       "2    0.894802        1   55840     26120   \n",
       "3    0.819671        0   82400     29040   \n",
       "4    0.823547        1  112280     29110   \n",
       "\n",
       "                                     prediction_dict  \\\n",
       "0  {'Assistência Social': 0.0026577765715708897, ...   \n",
       "1  {'Assistência Social': 0.00324328109074648, 'C...   \n",
       "2  {'Assistência Social': 0.03028957705192764, 'C...   \n",
       "3  {'Assistência Social': 0.08309286124138808, 'C...   \n",
       "4  {'Assistência Social': 0.0032084880311539173, ...   \n",
       "\n",
       "                         best_predict_cat  best_predict_proba  \n",
       "0  Zeladoria Urbana e melhorias de bairro            0.639805  \n",
       "1  Zeladoria Urbana e melhorias de bairro            0.639347  \n",
       "2  Zeladoria Urbana e melhorias de bairro            0.639947  \n",
       "3  Zeladoria Urbana e melhorias de bairro            0.638506  \n",
       "4                            Outros temas            0.640900  "
      ]
     },
     "execution_count": 13,
     "metadata": {},
     "output_type": "execute_result"
    }
   ],
   "source": [
    "df.head()"
   ]
  },
  {
   "cell_type": "code",
   "execution_count": 16,
   "id": "9033516e",
   "metadata": {},
   "outputs": [],
   "source": [
    "final_f_path = os.path.join(DATA_DIR, 'final_data.csv')\n",
    "df.to_csv(final_f_path, sep=';', index=False)"
   ]
  },
  {
   "cell_type": "code",
   "execution_count": null,
   "id": "da7182b9",
   "metadata": {},
   "outputs": [],
   "source": []
  }
 ],
 "metadata": {
  "kernelspec": {
   "display_name": "venv",
   "language": "python",
   "name": "python3"
  },
  "language_info": {
   "codemirror_mode": {
    "name": "ipython",
    "version": 3
   },
   "file_extension": ".py",
   "mimetype": "text/x-python",
   "name": "python",
   "nbconvert_exporter": "python",
   "pygments_lexer": "ipython3",
   "version": "3.12.3"
  }
 },
 "nbformat": 4,
 "nbformat_minor": 5
}
